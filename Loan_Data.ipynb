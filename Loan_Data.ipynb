{
  "cells": [
    {
      "cell_type": "markdown",
      "metadata": {
        "id": "view-in-github",
        "colab_type": "text"
      },
      "source": [
        "<a href=\"https://colab.research.google.com/github/biniyam69/Loan-Eligibility-With-Gradient-Boosting-/blob/main/Loan_Data.ipynb\" target=\"_parent\"><img src=\"https://colab.research.google.com/assets/colab-badge.svg\" alt=\"Open In Colab\"/></a>"
      ]
    },
    {
      "cell_type": "code",
      "source": [
        "pip install sklearn"
      ],
      "metadata": {
        "colab": {
          "base_uri": "https://localhost:8080/"
        },
        "id": "Jp_O73pbY9WC",
        "outputId": "957c2ace-5d55-4e3f-a82c-f2c19d726d4d"
      },
      "execution_count": 1,
      "outputs": [
        {
          "output_type": "stream",
          "name": "stdout",
          "text": [
            "Collecting sklearn\n",
            "  Downloading sklearn-0.0.post9.tar.gz (3.6 kB)\n",
            "  \u001b[1;31merror\u001b[0m: \u001b[1msubprocess-exited-with-error\u001b[0m\n",
            "  \n",
            "  \u001b[31m×\u001b[0m \u001b[32mpython setup.py egg_info\u001b[0m did not run successfully.\n",
            "  \u001b[31m│\u001b[0m exit code: \u001b[1;36m1\u001b[0m\n",
            "  \u001b[31m╰─>\u001b[0m See above for output.\n",
            "  \n",
            "  \u001b[1;35mnote\u001b[0m: This error originates from a subprocess, and is likely not a problem with pip.\n",
            "  Preparing metadata (setup.py) ... \u001b[?25l\u001b[?25herror\n",
            "\u001b[1;31merror\u001b[0m: \u001b[1mmetadata-generation-failed\u001b[0m\n",
            "\n",
            "\u001b[31m×\u001b[0m Encountered error while generating package metadata.\n",
            "\u001b[31m╰─>\u001b[0m See above for output.\n",
            "\n",
            "\u001b[1;35mnote\u001b[0m: This is an issue with the package mentioned above, not pip.\n",
            "\u001b[1;36mhint\u001b[0m: See above for details.\n"
          ]
        }
      ]
    },
    {
      "cell_type": "code",
      "execution_count": 2,
      "metadata": {
        "id": "TdeI-rL_lgQl"
      },
      "outputs": [],
      "source": [
        "import pandas as pd\n",
        "import os\n",
        "import matplotlib.pyplot as plt\n",
        "import seaborn as sns\n",
        "import statistics\n",
        "from sklearn import metrics\n",
        "from sklearn.model_selection import train_test_split, GridSearchCV,cross_val_score\n",
        "from sklearn.preprocessing import LabelBinarizer, StandardScaler,OrdinalEncoder\n",
        "from sklearn.metrics import confusion_matrix\n",
        "from sklearn.metrics import roc_auc_score\n",
        "from sklearn.metrics import roc_curve\n",
        "from scipy.stats import boxcox\n",
        "from sklearn.linear_model import LogisticRegression, RidgeClassifier, PassiveAggressiveClassifier\n",
        "from sklearn import preprocessing\n",
        "from sklearn.ensemble import RandomForestClassifier, GradientBoostingClassifier\n",
        "from imblearn.over_sampling import SMOTE\n",
        "from xgboost import plot_importance\n",
        "from matplotlib import pyplot\n",
        "from sklearn.naive_bayes import BernoulliNB\n",
        "from sklearn.neighbors import KNeighborsClassifier\n",
        "from sklearn.svm import LinearSVC\n",
        "from sklearn.tree import DecisionTreeClassifier\n",
        "from xgboost import XGBClassifier\n",
        "import joblib\n",
        "import numpy as np\n",
        "import tensorflow as tf\n",
        "import torch\n",
        "\n",
        "%matplotlib inline"
      ]
    },
    {
      "cell_type": "code",
      "execution_count": 3,
      "metadata": {
        "id": "N4ydgqcc32aH"
      },
      "outputs": [],
      "source": [
        "data = pd.read_csv(\"/content/LoansTrainingSetV2.csv\", low_memory=False)"
      ]
    },
    {
      "cell_type": "code",
      "execution_count": 4,
      "metadata": {
        "id": "jWMa-zz-5SVX",
        "colab": {
          "base_uri": "https://localhost:8080/",
          "height": 539
        },
        "outputId": "c03a2b26-043b-4df7-a43a-67955696aa23"
      },
      "outputs": [
        {
          "output_type": "execute_result",
          "data": {
            "text/plain": [
              "                                Loan ID                           Customer ID  \\\n",
              "0  6cf51492-02a2-423e-b93d-676f05b9ad53  7c202b37-2add-44e8-9aea-d5b119aea935   \n",
              "1  552e7ade-4292-4354-9ff9-c48031697d72  e7217b0a-07ac-47dd-b379-577b5a35b7c6   \n",
              "2  9b5e32b3-8d76-4801-afc8-d729d5a2e6b9  0a62fc41-16c8-40b5-92ff-9e4b763ce714   \n",
              "3  5419b7c7-ac11-4be2-a8a7-b131fb6d6dbe  30f36c59-5182-4482-8bbb-5b736849ae43   \n",
              "4  1450910f-9495-4fc9-afaf-9bdf4b9821df  70c26012-bba5-42c0-8dcb-75295ada31bb   \n",
              "\n",
              "    Loan Status  Current Loan Amount        Term  Credit Score  \\\n",
              "0  Loan Refused                12232  Short Term        7280.0   \n",
              "1  Loan Refused                25014   Long Term        7330.0   \n",
              "2  Loan Refused                16117  Short Term        7240.0   \n",
              "3  Loan Refused                11716  Short Term        7400.0   \n",
              "4  Loan Refused                 9789   Long Term        6860.0   \n",
              "\n",
              "  Years in current job Home Ownership  Annual Income             Purpose  \\\n",
              "0             < 1 year           Rent        46643.0  Debt Consolidation   \n",
              "1            10+ years  Home Mortgage        81099.0  Debt Consolidation   \n",
              "2              9 years  Home Mortgage        60438.0   Home Improvements   \n",
              "3              3 years           Rent        34171.0  Debt Consolidation   \n",
              "4            10+ years  Home Mortgage        47003.0   Home Improvements   \n",
              "\n",
              "  Monthly Debt  Years of Credit History  Months since last delinquent  \\\n",
              "0       777.39                     18.0                          10.0   \n",
              "1       892.09                     26.7                           NaN   \n",
              "2      1244.02                     16.7                          32.0   \n",
              "3       990.94                     10.0                           NaN   \n",
              "4       503.71                     16.7                          25.0   \n",
              "\n",
              "   Number of Open Accounts  Number of Credit Problems  Current Credit Balance  \\\n",
              "0                       12                          0                    6762   \n",
              "1                       14                          0                   35706   \n",
              "2                       11                          1                   11275   \n",
              "3                       21                          0                    7009   \n",
              "4                       13                          1                   16913   \n",
              "\n",
              "  Maximum Open Credit  Bankruptcies  Tax Liens  \n",
              "0                7946           0.0        0.0  \n",
              "1               77961           0.0        0.0  \n",
              "2               14815           1.0        0.0  \n",
              "3               43533           0.0        0.0  \n",
              "4               19553           1.0        0.0  "
            ],
            "text/html": [
              "\n",
              "  <div id=\"df-056772d9-c843-467a-bfd0-d129d0c97526\" class=\"colab-df-container\">\n",
              "    <div>\n",
              "<style scoped>\n",
              "    .dataframe tbody tr th:only-of-type {\n",
              "        vertical-align: middle;\n",
              "    }\n",
              "\n",
              "    .dataframe tbody tr th {\n",
              "        vertical-align: top;\n",
              "    }\n",
              "\n",
              "    .dataframe thead th {\n",
              "        text-align: right;\n",
              "    }\n",
              "</style>\n",
              "<table border=\"1\" class=\"dataframe\">\n",
              "  <thead>\n",
              "    <tr style=\"text-align: right;\">\n",
              "      <th></th>\n",
              "      <th>Loan ID</th>\n",
              "      <th>Customer ID</th>\n",
              "      <th>Loan Status</th>\n",
              "      <th>Current Loan Amount</th>\n",
              "      <th>Term</th>\n",
              "      <th>Credit Score</th>\n",
              "      <th>Years in current job</th>\n",
              "      <th>Home Ownership</th>\n",
              "      <th>Annual Income</th>\n",
              "      <th>Purpose</th>\n",
              "      <th>Monthly Debt</th>\n",
              "      <th>Years of Credit History</th>\n",
              "      <th>Months since last delinquent</th>\n",
              "      <th>Number of Open Accounts</th>\n",
              "      <th>Number of Credit Problems</th>\n",
              "      <th>Current Credit Balance</th>\n",
              "      <th>Maximum Open Credit</th>\n",
              "      <th>Bankruptcies</th>\n",
              "      <th>Tax Liens</th>\n",
              "    </tr>\n",
              "  </thead>\n",
              "  <tbody>\n",
              "    <tr>\n",
              "      <th>0</th>\n",
              "      <td>6cf51492-02a2-423e-b93d-676f05b9ad53</td>\n",
              "      <td>7c202b37-2add-44e8-9aea-d5b119aea935</td>\n",
              "      <td>Loan Refused</td>\n",
              "      <td>12232</td>\n",
              "      <td>Short Term</td>\n",
              "      <td>7280.0</td>\n",
              "      <td>&lt; 1 year</td>\n",
              "      <td>Rent</td>\n",
              "      <td>46643.0</td>\n",
              "      <td>Debt Consolidation</td>\n",
              "      <td>777.39</td>\n",
              "      <td>18.0</td>\n",
              "      <td>10.0</td>\n",
              "      <td>12</td>\n",
              "      <td>0</td>\n",
              "      <td>6762</td>\n",
              "      <td>7946</td>\n",
              "      <td>0.0</td>\n",
              "      <td>0.0</td>\n",
              "    </tr>\n",
              "    <tr>\n",
              "      <th>1</th>\n",
              "      <td>552e7ade-4292-4354-9ff9-c48031697d72</td>\n",
              "      <td>e7217b0a-07ac-47dd-b379-577b5a35b7c6</td>\n",
              "      <td>Loan Refused</td>\n",
              "      <td>25014</td>\n",
              "      <td>Long Term</td>\n",
              "      <td>7330.0</td>\n",
              "      <td>10+ years</td>\n",
              "      <td>Home Mortgage</td>\n",
              "      <td>81099.0</td>\n",
              "      <td>Debt Consolidation</td>\n",
              "      <td>892.09</td>\n",
              "      <td>26.7</td>\n",
              "      <td>NaN</td>\n",
              "      <td>14</td>\n",
              "      <td>0</td>\n",
              "      <td>35706</td>\n",
              "      <td>77961</td>\n",
              "      <td>0.0</td>\n",
              "      <td>0.0</td>\n",
              "    </tr>\n",
              "    <tr>\n",
              "      <th>2</th>\n",
              "      <td>9b5e32b3-8d76-4801-afc8-d729d5a2e6b9</td>\n",
              "      <td>0a62fc41-16c8-40b5-92ff-9e4b763ce714</td>\n",
              "      <td>Loan Refused</td>\n",
              "      <td>16117</td>\n",
              "      <td>Short Term</td>\n",
              "      <td>7240.0</td>\n",
              "      <td>9 years</td>\n",
              "      <td>Home Mortgage</td>\n",
              "      <td>60438.0</td>\n",
              "      <td>Home Improvements</td>\n",
              "      <td>1244.02</td>\n",
              "      <td>16.7</td>\n",
              "      <td>32.0</td>\n",
              "      <td>11</td>\n",
              "      <td>1</td>\n",
              "      <td>11275</td>\n",
              "      <td>14815</td>\n",
              "      <td>1.0</td>\n",
              "      <td>0.0</td>\n",
              "    </tr>\n",
              "    <tr>\n",
              "      <th>3</th>\n",
              "      <td>5419b7c7-ac11-4be2-a8a7-b131fb6d6dbe</td>\n",
              "      <td>30f36c59-5182-4482-8bbb-5b736849ae43</td>\n",
              "      <td>Loan Refused</td>\n",
              "      <td>11716</td>\n",
              "      <td>Short Term</td>\n",
              "      <td>7400.0</td>\n",
              "      <td>3 years</td>\n",
              "      <td>Rent</td>\n",
              "      <td>34171.0</td>\n",
              "      <td>Debt Consolidation</td>\n",
              "      <td>990.94</td>\n",
              "      <td>10.0</td>\n",
              "      <td>NaN</td>\n",
              "      <td>21</td>\n",
              "      <td>0</td>\n",
              "      <td>7009</td>\n",
              "      <td>43533</td>\n",
              "      <td>0.0</td>\n",
              "      <td>0.0</td>\n",
              "    </tr>\n",
              "    <tr>\n",
              "      <th>4</th>\n",
              "      <td>1450910f-9495-4fc9-afaf-9bdf4b9821df</td>\n",
              "      <td>70c26012-bba5-42c0-8dcb-75295ada31bb</td>\n",
              "      <td>Loan Refused</td>\n",
              "      <td>9789</td>\n",
              "      <td>Long Term</td>\n",
              "      <td>6860.0</td>\n",
              "      <td>10+ years</td>\n",
              "      <td>Home Mortgage</td>\n",
              "      <td>47003.0</td>\n",
              "      <td>Home Improvements</td>\n",
              "      <td>503.71</td>\n",
              "      <td>16.7</td>\n",
              "      <td>25.0</td>\n",
              "      <td>13</td>\n",
              "      <td>1</td>\n",
              "      <td>16913</td>\n",
              "      <td>19553</td>\n",
              "      <td>1.0</td>\n",
              "      <td>0.0</td>\n",
              "    </tr>\n",
              "  </tbody>\n",
              "</table>\n",
              "</div>\n",
              "    <div class=\"colab-df-buttons\">\n",
              "\n",
              "  <div class=\"colab-df-container\">\n",
              "    <button class=\"colab-df-convert\" onclick=\"convertToInteractive('df-056772d9-c843-467a-bfd0-d129d0c97526')\"\n",
              "            title=\"Convert this dataframe to an interactive table.\"\n",
              "            style=\"display:none;\">\n",
              "\n",
              "  <svg xmlns=\"http://www.w3.org/2000/svg\" height=\"24px\" viewBox=\"0 -960 960 960\">\n",
              "    <path d=\"M120-120v-720h720v720H120Zm60-500h600v-160H180v160Zm220 220h160v-160H400v160Zm0 220h160v-160H400v160ZM180-400h160v-160H180v160Zm440 0h160v-160H620v160ZM180-180h160v-160H180v160Zm440 0h160v-160H620v160Z\"/>\n",
              "  </svg>\n",
              "    </button>\n",
              "\n",
              "  <style>\n",
              "    .colab-df-container {\n",
              "      display:flex;\n",
              "      gap: 12px;\n",
              "    }\n",
              "\n",
              "    .colab-df-convert {\n",
              "      background-color: #E8F0FE;\n",
              "      border: none;\n",
              "      border-radius: 50%;\n",
              "      cursor: pointer;\n",
              "      display: none;\n",
              "      fill: #1967D2;\n",
              "      height: 32px;\n",
              "      padding: 0 0 0 0;\n",
              "      width: 32px;\n",
              "    }\n",
              "\n",
              "    .colab-df-convert:hover {\n",
              "      background-color: #E2EBFA;\n",
              "      box-shadow: 0px 1px 2px rgba(60, 64, 67, 0.3), 0px 1px 3px 1px rgba(60, 64, 67, 0.15);\n",
              "      fill: #174EA6;\n",
              "    }\n",
              "\n",
              "    .colab-df-buttons div {\n",
              "      margin-bottom: 4px;\n",
              "    }\n",
              "\n",
              "    [theme=dark] .colab-df-convert {\n",
              "      background-color: #3B4455;\n",
              "      fill: #D2E3FC;\n",
              "    }\n",
              "\n",
              "    [theme=dark] .colab-df-convert:hover {\n",
              "      background-color: #434B5C;\n",
              "      box-shadow: 0px 1px 3px 1px rgba(0, 0, 0, 0.15);\n",
              "      filter: drop-shadow(0px 1px 2px rgba(0, 0, 0, 0.3));\n",
              "      fill: #FFFFFF;\n",
              "    }\n",
              "  </style>\n",
              "\n",
              "    <script>\n",
              "      const buttonEl =\n",
              "        document.querySelector('#df-056772d9-c843-467a-bfd0-d129d0c97526 button.colab-df-convert');\n",
              "      buttonEl.style.display =\n",
              "        google.colab.kernel.accessAllowed ? 'block' : 'none';\n",
              "\n",
              "      async function convertToInteractive(key) {\n",
              "        const element = document.querySelector('#df-056772d9-c843-467a-bfd0-d129d0c97526');\n",
              "        const dataTable =\n",
              "          await google.colab.kernel.invokeFunction('convertToInteractive',\n",
              "                                                    [key], {});\n",
              "        if (!dataTable) return;\n",
              "\n",
              "        const docLinkHtml = 'Like what you see? Visit the ' +\n",
              "          '<a target=\"_blank\" href=https://colab.research.google.com/notebooks/data_table.ipynb>data table notebook</a>'\n",
              "          + ' to learn more about interactive tables.';\n",
              "        element.innerHTML = '';\n",
              "        dataTable['output_type'] = 'display_data';\n",
              "        await google.colab.output.renderOutput(dataTable, element);\n",
              "        const docLink = document.createElement('div');\n",
              "        docLink.innerHTML = docLinkHtml;\n",
              "        element.appendChild(docLink);\n",
              "      }\n",
              "    </script>\n",
              "  </div>\n",
              "\n",
              "\n",
              "<div id=\"df-7f933958-f981-45d0-b35e-8b6683735b1f\">\n",
              "  <button class=\"colab-df-quickchart\" onclick=\"quickchart('df-7f933958-f981-45d0-b35e-8b6683735b1f')\"\n",
              "            title=\"Suggest charts.\"\n",
              "            style=\"display:none;\">\n",
              "\n",
              "<svg xmlns=\"http://www.w3.org/2000/svg\" height=\"24px\"viewBox=\"0 0 24 24\"\n",
              "     width=\"24px\">\n",
              "    <g>\n",
              "        <path d=\"M19 3H5c-1.1 0-2 .9-2 2v14c0 1.1.9 2 2 2h14c1.1 0 2-.9 2-2V5c0-1.1-.9-2-2-2zM9 17H7v-7h2v7zm4 0h-2V7h2v10zm4 0h-2v-4h2v4z\"/>\n",
              "    </g>\n",
              "</svg>\n",
              "  </button>\n",
              "\n",
              "<style>\n",
              "  .colab-df-quickchart {\n",
              "      --bg-color: #E8F0FE;\n",
              "      --fill-color: #1967D2;\n",
              "      --hover-bg-color: #E2EBFA;\n",
              "      --hover-fill-color: #174EA6;\n",
              "      --disabled-fill-color: #AAA;\n",
              "      --disabled-bg-color: #DDD;\n",
              "  }\n",
              "\n",
              "  [theme=dark] .colab-df-quickchart {\n",
              "      --bg-color: #3B4455;\n",
              "      --fill-color: #D2E3FC;\n",
              "      --hover-bg-color: #434B5C;\n",
              "      --hover-fill-color: #FFFFFF;\n",
              "      --disabled-bg-color: #3B4455;\n",
              "      --disabled-fill-color: #666;\n",
              "  }\n",
              "\n",
              "  .colab-df-quickchart {\n",
              "    background-color: var(--bg-color);\n",
              "    border: none;\n",
              "    border-radius: 50%;\n",
              "    cursor: pointer;\n",
              "    display: none;\n",
              "    fill: var(--fill-color);\n",
              "    height: 32px;\n",
              "    padding: 0;\n",
              "    width: 32px;\n",
              "  }\n",
              "\n",
              "  .colab-df-quickchart:hover {\n",
              "    background-color: var(--hover-bg-color);\n",
              "    box-shadow: 0 1px 2px rgba(60, 64, 67, 0.3), 0 1px 3px 1px rgba(60, 64, 67, 0.15);\n",
              "    fill: var(--button-hover-fill-color);\n",
              "  }\n",
              "\n",
              "  .colab-df-quickchart-complete:disabled,\n",
              "  .colab-df-quickchart-complete:disabled:hover {\n",
              "    background-color: var(--disabled-bg-color);\n",
              "    fill: var(--disabled-fill-color);\n",
              "    box-shadow: none;\n",
              "  }\n",
              "\n",
              "  .colab-df-spinner {\n",
              "    border: 2px solid var(--fill-color);\n",
              "    border-color: transparent;\n",
              "    border-bottom-color: var(--fill-color);\n",
              "    animation:\n",
              "      spin 1s steps(1) infinite;\n",
              "  }\n",
              "\n",
              "  @keyframes spin {\n",
              "    0% {\n",
              "      border-color: transparent;\n",
              "      border-bottom-color: var(--fill-color);\n",
              "      border-left-color: var(--fill-color);\n",
              "    }\n",
              "    20% {\n",
              "      border-color: transparent;\n",
              "      border-left-color: var(--fill-color);\n",
              "      border-top-color: var(--fill-color);\n",
              "    }\n",
              "    30% {\n",
              "      border-color: transparent;\n",
              "      border-left-color: var(--fill-color);\n",
              "      border-top-color: var(--fill-color);\n",
              "      border-right-color: var(--fill-color);\n",
              "    }\n",
              "    40% {\n",
              "      border-color: transparent;\n",
              "      border-right-color: var(--fill-color);\n",
              "      border-top-color: var(--fill-color);\n",
              "    }\n",
              "    60% {\n",
              "      border-color: transparent;\n",
              "      border-right-color: var(--fill-color);\n",
              "    }\n",
              "    80% {\n",
              "      border-color: transparent;\n",
              "      border-right-color: var(--fill-color);\n",
              "      border-bottom-color: var(--fill-color);\n",
              "    }\n",
              "    90% {\n",
              "      border-color: transparent;\n",
              "      border-bottom-color: var(--fill-color);\n",
              "    }\n",
              "  }\n",
              "</style>\n",
              "\n",
              "  <script>\n",
              "    async function quickchart(key) {\n",
              "      const quickchartButtonEl =\n",
              "        document.querySelector('#' + key + ' button');\n",
              "      quickchartButtonEl.disabled = true;  // To prevent multiple clicks.\n",
              "      quickchartButtonEl.classList.add('colab-df-spinner');\n",
              "      try {\n",
              "        const charts = await google.colab.kernel.invokeFunction(\n",
              "            'suggestCharts', [key], {});\n",
              "      } catch (error) {\n",
              "        console.error('Error during call to suggestCharts:', error);\n",
              "      }\n",
              "      quickchartButtonEl.classList.remove('colab-df-spinner');\n",
              "      quickchartButtonEl.classList.add('colab-df-quickchart-complete');\n",
              "    }\n",
              "    (() => {\n",
              "      let quickchartButtonEl =\n",
              "        document.querySelector('#df-7f933958-f981-45d0-b35e-8b6683735b1f button');\n",
              "      quickchartButtonEl.style.display =\n",
              "        google.colab.kernel.accessAllowed ? 'block' : 'none';\n",
              "    })();\n",
              "  </script>\n",
              "</div>\n",
              "    </div>\n",
              "  </div>\n"
            ]
          },
          "metadata": {},
          "execution_count": 4
        }
      ],
      "source": [
        "data.head()"
      ]
    },
    {
      "cell_type": "code",
      "execution_count": 5,
      "metadata": {
        "id": "S-gfTP2v5Xae",
        "colab": {
          "base_uri": "https://localhost:8080/"
        },
        "outputId": "a91865a5-dd31-4700-f3aa-3c69ab9986c0"
      },
      "outputs": [
        {
          "output_type": "execute_result",
          "data": {
            "text/plain": [
              "111107"
            ]
          },
          "metadata": {},
          "execution_count": 5
        }
      ],
      "source": [
        "len(data)"
      ]
    },
    {
      "cell_type": "code",
      "execution_count": 6,
      "metadata": {
        "id": "wBqsQFLr5ek3"
      },
      "outputs": [],
      "source": [
        "data.drop_duplicates(subset='Loan ID', keep=\"first\", inplace=True)"
      ]
    },
    {
      "cell_type": "code",
      "execution_count": 7,
      "metadata": {
        "id": "N3GkQDkJ53gQ"
      },
      "outputs": [],
      "source": [
        "status=data[\"Loan Status\"].value_counts()"
      ]
    },
    {
      "cell_type": "code",
      "execution_count": 8,
      "metadata": {
        "id": "2jf23-Rv59yx",
        "colab": {
          "base_uri": "https://localhost:8080/",
          "height": 509
        },
        "outputId": "86179805-7da3-4322-de6c-572b0508d06b"
      },
      "outputs": [
        {
          "output_type": "execute_result",
          "data": {
            "text/plain": [
              "<function matplotlib.pyplot.show(close=None, block=None)>"
            ]
          },
          "metadata": {},
          "execution_count": 8
        },
        {
          "output_type": "display_data",
          "data": {
            "text/plain": [
              "<Figure size 1000x500 with 1 Axes>"
            ],
            "image/png": "[encoded data removed]"
          },
          "metadata": {}
        }
      ],
      "source": [
        "#df = sns.load_dataset(\"/content/LoansTrainingSetV2.csv\")\n",
        "plt.figure(figsize=(10,5))\n",
        "sns.barplot(x=status.index,y=status.values,alpha=0.8)\n",
        "plt.title(\"Loan status distribution\")\n",
        "plt.ylabel(\"Number of occurences\", fontsize=12)\n",
        "plt.xlabel(\"Loan Status\", fontsize=12)\n",
        "plt.show"
      ]
    },
    {
      "cell_type": "code",
      "execution_count": 9,
      "metadata": {
        "id": "ln-vIKNM7c6-",
        "colab": {
          "base_uri": "https://localhost:8080/"
        },
        "outputId": "639966f6-71a1-4930-a39c-7f89a82242a8"
      },
      "outputs": [
        {
          "output_type": "execute_result",
          "data": {
            "text/plain": [
              "count    8.891000e+04\n",
              "mean     1.433878e+07\n",
              "std      3.502996e+07\n",
              "min      4.910000e+02\n",
              "25%      8.283000e+03\n",
              "50%      1.435500e+04\n",
              "75%      2.448500e+04\n",
              "max      1.000000e+08\n",
              "Name: Current Loan Amount, dtype: float64"
            ]
          },
          "metadata": {},
          "execution_count": 9
        }
      ],
      "source": [
        "data[\"Current Loan Amount\"].describe()"
      ]
    },
    {
      "cell_type": "code",
      "execution_count": 10,
      "metadata": {
        "id": "6T_1rPy-PZR_",
        "colab": {
          "base_uri": "https://localhost:8080/",
          "height": 472
        },
        "outputId": "7721ade2-bc27-4530-ab64-c1b352245f2a"
      },
      "outputs": [
        {
          "output_type": "display_data",
          "data": {
            "text/plain": [
              "<Figure size 640x480 with 1 Axes>"
            ],
            "image/png": "[encoded data removed]"
          },
          "metadata": {}
        }
      ],
      "source": [
        "data[\"Current Loan Amount\"].plot.hist(grid=True, bins=20, rwidth=0.9, color='#607c8e')\n",
        "plt.title(\"Commute times for 1000 commuters\")\n",
        "plt.ylabel(\"Commute time\")\n",
        "plt.xlabel(\"Counts\")\n",
        "plt.grid(axis='y', alpha=0.7)"
      ]
    },
    {
      "cell_type": "code",
      "execution_count": 11,
      "metadata": {
        "id": "EII5EMUMvHjM",
        "colab": {
          "base_uri": "https://localhost:8080/"
        },
        "outputId": "5556a766-dd15-4d0c-e733-b909e5c743a8"
      },
      "outputs": [
        {
          "output_type": "stream",
          "name": "stdout",
          "text": [
            "16202.0\n"
          ]
        }
      ],
      "source": [
        "Q1 = data[\"Current Loan Amount\"].quantile(0.25)\n",
        "Q3 = data[\"Current Loan Amount\"].quantile(0.75)\n",
        "\n",
        "IQR = Q3 - Q1\n",
        "print(IQR)"
      ]
    },
    {
      "cell_type": "code",
      "execution_count": 12,
      "metadata": {
        "id": "sThEjmuv7mge",
        "colab": {
          "base_uri": "https://localhost:8080/"
        },
        "outputId": "9899ee04-7f8e-4808-bb1a-2d9101e29350"
      },
      "outputs": [
        {
          "output_type": "stream",
          "name": "stdout",
          "text": [
            "(1, 2, [1, 2, 3])\n"
          ]
        }
      ],
      "source": [
        "docum = (1, 2 , [1,2])\n",
        "docum[-1].append(3)\n",
        "\n",
        "print(docum)"
      ]
    },
    {
      "cell_type": "code",
      "execution_count": 13,
      "metadata": {
        "id": "jNYy9kRUpLW6",
        "colab": {
          "base_uri": "https://localhost:8080/"
        },
        "outputId": "448fe351-3b01-4100-abf3-5239dd5d0dea"
      },
      "outputs": [
        {
          "output_type": "execute_result",
          "data": {
            "text/plain": [
              "Series([], Name: Current Loan Amount, dtype: int64)"
            ]
          },
          "metadata": {},
          "execution_count": 13
        }
      ],
      "source": [
        "data[\"Current Loan Amount\"][((data[\"Current Loan Amount\"] < (Q1 - 1.5 * IQR)) | data[\"Current Loan Amount\"] > (Q3 + 1.5 * IQR))]"
      ]
    },
    {
      "cell_type": "code",
      "execution_count": 14,
      "metadata": {
        "colab": {
          "base_uri": "https://localhost:8080/",
          "height": 448
        },
        "id": "akNPJ4-lpPSk",
        "outputId": "5aa5ff43-99c3-48f1-f4cd-ffa2a90787df"
      },
      "outputs": [
        {
          "output_type": "execute_result",
          "data": {
            "text/plain": [
              "<Axes: ylabel='Frequency'>"
            ]
          },
          "metadata": {},
          "execution_count": 14
        },
        {
          "output_type": "display_data",
          "data": {
            "text/plain": [
              "<Figure size 640x480 with 1 Axes>"
            ],
            "image/png": "[encoded data removed]"
          },
          "metadata": {}
        }
      ],
      "source": [
        "temp = np.array(data[\"Current Loan Amount\"].values.tolist())\n",
        "data[\"Current Loan Amount_temp\"] = np.where(temp > 999998, 'NaN', temp).tolist()\n",
        "temp=data[\"Current Loan Amount_temp\"][data[\"Current Loan Amount_temp\"] != 'NaN'].astype(str).astype(int)\n",
        "\n",
        "temp.plot.hist(grid=True, bins=20, rwidth=0.9,color=\"#607c8e\")"
      ]
    },
    {
      "cell_type": "code",
      "execution_count": 15,
      "metadata": {
        "colab": {
          "base_uri": "https://localhost:8080/"
        },
        "id": "RxxVMWiot8Wr",
        "outputId": "886b4a18-2b9f-4827-cc21-1b6472d202e4"
      },
      "outputs": [
        {
          "output_type": "execute_result",
          "data": {
            "text/plain": [
              "count    76172.000000\n",
              "mean     13933.915756\n",
              "std       8235.921922\n",
              "min        491.000000\n",
              "25%       7810.000000\n",
              "50%      12038.000000\n",
              "75%      19351.000000\n",
              "max      35875.000000\n",
              "Name: Current Loan Amount_temp, dtype: float64"
            ]
          },
          "metadata": {},
          "execution_count": 15
        }
      ],
      "source": [
        "temp.describe()"
      ]
    },
    {
      "cell_type": "code",
      "execution_count": 16,
      "metadata": {
        "id": "OPKeUK4B8JAe"
      },
      "outputs": [],
      "source": [
        "#Replacing the data with 50% percentile or mean\n",
        "\n",
        "temp=np.array(data[\"Current Loan Amount\"].values.tolist())\n",
        "data[\"Current Loan Amount\"] = np.where(temp>999998, 13286,temp).tolist()\n",
        "data = data.drop(\"Current Loan Amount_temp\", axis=1)\n"
      ]
    },
    {
      "cell_type": "code",
      "execution_count": 17,
      "metadata": {
        "colab": {
          "base_uri": "https://localhost:8080/"
        },
        "id": "bT5KKX-S-aO8",
        "outputId": "d9c9f814-5065-44e3-e5f9-0d9e20a0b2df"
      },
      "outputs": [
        {
          "output_type": "stream",
          "name": "stdout",
          "text": [
            "<class 'pandas.core.frame.DataFrame'>\n",
            "Int64Index: 88910 entries, 0 to 88909\n",
            "Data columns (total 19 columns):\n",
            " #   Column                        Non-Null Count  Dtype  \n",
            "---  ------                        --------------  -----  \n",
            " 0   Loan ID                       88910 non-null  object \n",
            " 1   Customer ID                   88910 non-null  object \n",
            " 2   Loan Status                   88910 non-null  object \n",
            " 3   Current Loan Amount           88910 non-null  int64  \n",
            " 4   Term                          88910 non-null  object \n",
            " 5   Credit Score                  67572 non-null  float64\n",
            " 6   Years in current job          85093 non-null  object \n",
            " 7   Home Ownership                88910 non-null  object \n",
            " 8   Annual Income                 67572 non-null  float64\n",
            " 9   Purpose                       88910 non-null  object \n",
            " 10  Monthly Debt                  88910 non-null  object \n",
            " 11  Years of Credit History       88910 non-null  float64\n",
            " 12  Months since last delinquent  40404 non-null  float64\n",
            " 13  Number of Open Accounts       88910 non-null  int64  \n",
            " 14  Number of Credit Problems     88910 non-null  int64  \n",
            " 15  Current Credit Balance        88910 non-null  int64  \n",
            " 16  Maximum Open Credit           88910 non-null  object \n",
            " 17  Bankruptcies                  88718 non-null  float64\n",
            " 18  Tax Liens                     88902 non-null  float64\n",
            "dtypes: float64(6), int64(4), object(9)\n",
            "memory usage: 13.6+ MB\n"
          ]
        }
      ],
      "source": [
        "data.info()"
      ]
    },
    {
      "cell_type": "code",
      "execution_count": 18,
      "metadata": {
        "colab": {
          "base_uri": "https://localhost:8080/"
        },
        "id": "x3HHAM_HCgH-",
        "outputId": "5a75fb93-4bbc-42fe-8a49-ace644af9acf"
      },
      "outputs": [
        {
          "output_type": "execute_result",
          "data": {
            "text/plain": [
              "array([False,  True])"
            ]
          },
          "metadata": {},
          "execution_count": 18
        }
      ],
      "source": [
        "data[\"Credit Score\"].isnull().unique()"
      ]
    },
    {
      "cell_type": "code",
      "execution_count": 19,
      "metadata": {
        "id": "h9AWDq-4EGsb",
        "colab": {
          "base_uri": "https://localhost:8080/",
          "height": 577
        },
        "outputId": "07cde02d-e274-4b94-db60-1e14531c9846"
      },
      "outputs": [
        {
          "output_type": "execute_result",
          "data": {
            "text/plain": [
              "{'whiskers': [<matplotlib.lines.Line2D at 0x78689abef940>,\n",
              "  <matplotlib.lines.Line2D at 0x78689abefbe0>],\n",
              " 'caps': [<matplotlib.lines.Line2D at 0x78689abefe80>,\n",
              "  <matplotlib.lines.Line2D at 0x78689abb0160>],\n",
              " 'boxes': [<matplotlib.lines.Line2D at 0x78689abef6a0>],\n",
              " 'medians': [<matplotlib.lines.Line2D at 0x78689abb0400>],\n",
              " 'fliers': [<matplotlib.lines.Line2D at 0x78689abb06a0>],\n",
              " 'means': []}"
            ]
          },
          "metadata": {},
          "execution_count": 19
        },
        {
          "output_type": "display_data",
          "data": {
            "text/plain": [
              "<Figure size 640x480 with 1 Axes>"
            ],
            "image/png": "[encoded data removed]"
          },
          "metadata": {}
        }
      ],
      "source": [
        "plt.boxplot(data[\"Credit Score\"])"
      ]
    },
    {
      "cell_type": "code",
      "execution_count": 20,
      "metadata": {
        "id": "Uf7uV27fEpin"
      },
      "outputs": [],
      "source": [
        "data[\"Credit Score\"] = np.where(data[\"Credit Score\"] > 800, data[\"Credit Score\"]/10, data[\"Credit Score\"])"
      ]
    },
    {
      "cell_type": "code",
      "execution_count": 21,
      "metadata": {
        "id": "bQ9ExXQkIJuq"
      },
      "outputs": [],
      "source": [
        "median_score = statistics.median(data[\"Credit Score\"])"
      ]
    },
    {
      "cell_type": "code",
      "execution_count": 22,
      "metadata": {
        "id": "EjL1gg3BIdyU"
      },
      "outputs": [],
      "source": [
        "data[\"Credit Score_1\"] = data[\"Credit Score\"]\n",
        "data[\"Credit Score_1\"].fillna(median_score, inplace=True)"
      ]
    },
    {
      "cell_type": "code",
      "execution_count": 23,
      "metadata": {
        "id": "z_h2y8HtJklc",
        "colab": {
          "base_uri": "https://localhost:8080/"
        },
        "outputId": "18e9af15-6ff8-4847-f081-4c10293c83d5"
      },
      "outputs": [
        {
          "output_type": "execute_result",
          "data": {
            "text/plain": [
              "0    728.0\n",
              "1    733.0\n",
              "2    724.0\n",
              "3    740.0\n",
              "4    686.0\n",
              "Name: Credit Score_1, dtype: float64"
            ]
          },
          "metadata": {},
          "execution_count": 23
        }
      ],
      "source": [
        "data[\"Credit Score_1\"].head()"
      ]
    },
    {
      "cell_type": "code",
      "execution_count": 24,
      "metadata": {
        "id": "fat2goYoJuuI",
        "colab": {
          "base_uri": "https://localhost:8080/",
          "height": 670
        },
        "outputId": "dbfec248-c88c-48a6-bb3f-7a5a3ed10cb6"
      },
      "outputs": [
        {
          "output_type": "stream",
          "name": "stderr",
          "text": [
            "<ipython-input-24-5e15f51cf54e>:1: UserWarning: \n",
            "\n",
            "`distplot` is a deprecated function and will be removed in seaborn v0.14.0.\n",
            "\n",
            "Please adapt your code to use either `displot` (a figure-level function with\n",
            "similar flexibility) or `histplot` (an axes-level function for histograms).\n",
            "\n",
            "For a guide to updating your code to use the new functions, please see\n",
            "https://gist.github.com/mwaskom/de44147ed2974457ad6372750bbe5751\n",
            "\n",
            "  sns.distplot(data[\"Credit Score_1\"])\n"
          ]
        },
        {
          "output_type": "execute_result",
          "data": {
            "text/plain": [
              "<Axes: xlabel='Credit Score_1', ylabel='Density'>"
            ]
          },
          "metadata": {},
          "execution_count": 24
        },
        {
          "output_type": "display_data",
          "data": {
            "text/plain": [
              "<Figure size 640x480 with 1 Axes>"
            ],
            "image/png": "[encoded data removed]"
          },
          "metadata": {}
        }
      ],
      "source": [
        "sns.distplot(data[\"Credit Score_1\"])"
      ]
    },
    {
      "cell_type": "code",
      "execution_count": 25,
      "metadata": {
        "id": "apqhH5HUJ4Hr",
        "colab": {
          "base_uri": "https://localhost:8080/",
          "height": 669
        },
        "outputId": "4e42d09c-366d-4855-b242-f5c7775c3fe0"
      },
      "outputs": [
        {
          "output_type": "stream",
          "name": "stderr",
          "text": [
            "<ipython-input-25-f60e7466faad>:2: UserWarning: \n",
            "\n",
            "`distplot` is a deprecated function and will be removed in seaborn v0.14.0.\n",
            "\n",
            "Please adapt your code to use either `displot` (a figure-level function with\n",
            "similar flexibility) or `histplot` (an axes-level function for histograms).\n",
            "\n",
            "For a guide to updating your code to use the new functions, please see\n",
            "https://gist.github.com/mwaskom/de44147ed2974457ad6372750bbe5751\n",
            "\n",
            "  sns.distplot(data[\"Credit Score\"])\n"
          ]
        },
        {
          "output_type": "execute_result",
          "data": {
            "text/plain": [
              "<Axes: xlabel='Credit Score', ylabel='Density'>"
            ]
          },
          "metadata": {},
          "execution_count": 25
        },
        {
          "output_type": "display_data",
          "data": {
            "text/plain": [
              "<Figure size 640x480 with 1 Axes>"
            ],
            "image/png": "[encoded data removed]"
          },
          "metadata": {}
        }
      ],
      "source": [
        "data[\"Credit Score\"].fillna(741, inplace=True)\n",
        "sns.distplot(data[\"Credit Score\"])"
      ]
    },
    {
      "cell_type": "code",
      "execution_count": 26,
      "metadata": {
        "id": "IkbIR0RmKNNc",
        "colab": {
          "base_uri": "https://localhost:8080/",
          "height": 669
        },
        "outputId": "ee0b1868-6fc7-4686-917b-04c5e9552372"
      },
      "outputs": [
        {
          "output_type": "stream",
          "name": "stderr",
          "text": [
            "<ipython-input-26-b7eba8f74ed1>:1: UserWarning: \n",
            "\n",
            "`distplot` is a deprecated function and will be removed in seaborn v0.14.0.\n",
            "\n",
            "Please adapt your code to use either `displot` (a figure-level function with\n",
            "similar flexibility) or `histplot` (an axes-level function for histograms).\n",
            "\n",
            "For a guide to updating your code to use the new functions, please see\n",
            "https://gist.github.com/mwaskom/de44147ed2974457ad6372750bbe5751\n",
            "\n",
            "  sns.distplot(np.log(data[\"Credit Score\"]))\n"
          ]
        },
        {
          "output_type": "execute_result",
          "data": {
            "text/plain": [
              "<Axes: xlabel='Credit Score', ylabel='Density'>"
            ]
          },
          "metadata": {},
          "execution_count": 26
        },
        {
          "output_type": "display_data",
          "data": {
            "text/plain": [
              "<Figure size 640x480 with 1 Axes>"
            ],
            "image/png": "[encoded data removed]"
          },
          "metadata": {}
        }
      ],
      "source": [
        "sns.distplot(np.log(data[\"Credit Score\"]))"
      ]
    },
    {
      "cell_type": "code",
      "execution_count": 27,
      "metadata": {
        "id": "nueopf8IKWcs",
        "colab": {
          "base_uri": "https://localhost:8080/"
        },
        "outputId": "b94f26cf-8571-48f6-e1b2-7ec097ba47d7"
      },
      "outputs": [
        {
          "output_type": "execute_result",
          "data": {
            "text/plain": [
              "array(['Rent', 'Home Mortgage', 'Own Home', 'HaveMortgage'], dtype=object)"
            ]
          },
          "metadata": {},
          "execution_count": 27
        }
      ],
      "source": [
        "data[\"Home Ownership\"].unique()"
      ]
    },
    {
      "cell_type": "code",
      "execution_count": 28,
      "metadata": {
        "id": "f8Ds1t5jL3Il"
      },
      "outputs": [],
      "source": [
        "data[\"Home Ownership\"] = data[\"Home Ownership\"].str.replace(\"HaveMortgage\", \"Home Mortgage\", regex=True)"
      ]
    },
    {
      "cell_type": "code",
      "execution_count": 29,
      "metadata": {
        "id": "YH_o0rKmMlNI",
        "colab": {
          "base_uri": "https://localhost:8080/"
        },
        "outputId": "a220249b-8760-4bcb-da4d-c0886ba0a63f"
      },
      "outputs": [
        {
          "output_type": "execute_result",
          "data": {
            "text/plain": [
              "array(['Rent', 'Home Mortgage', 'Own Home'], dtype=object)"
            ]
          },
          "metadata": {},
          "execution_count": 29
        }
      ],
      "source": [
        "data[\"Home Ownership\"].unique()"
      ]
    },
    {
      "cell_type": "code",
      "execution_count": 30,
      "metadata": {
        "id": "jpccBGnXMphq",
        "colab": {
          "base_uri": "https://localhost:8080/"
        },
        "outputId": "5d4544bd-ae6a-402e-9991-dba12ce1b8e3"
      },
      "outputs": [
        {
          "output_type": "execute_result",
          "data": {
            "text/plain": [
              "count    6.757200e+04\n",
              "mean     7.234575e+04\n",
              "std      5.836101e+04\n",
              "min      4.033000e+03\n",
              "25%      4.458600e+04\n",
              "50%      6.149400e+04\n",
              "75%      8.675025e+04\n",
              "max      8.713547e+06\n",
              "Name: Annual Income, dtype: float64"
            ]
          },
          "metadata": {},
          "execution_count": 30
        }
      ],
      "source": [
        "data[\"Annual Income\"].describe()"
      ]
    },
    {
      "cell_type": "code",
      "execution_count": 31,
      "metadata": {
        "id": "etF13sLRMug1",
        "colab": {
          "base_uri": "https://localhost:8080/"
        },
        "outputId": "a6b1dcd5-a039-46ea-f824-0528f7907c25"
      },
      "outputs": [
        {
          "output_type": "execute_result",
          "data": {
            "text/plain": [
              "0.200     40764.00\n",
              "0.750     86750.25\n",
              "0.950    147645.00\n",
              "0.990    239286.96\n",
              "0.999    491575.77\n",
              "Name: Annual Income, dtype: float64"
            ]
          },
          "metadata": {},
          "execution_count": 31
        }
      ],
      "source": [
        "data[\"Annual Income\"].quantile([0.2,0.75,0.95,0.99,0.999])"
      ]
    },
    {
      "cell_type": "code",
      "execution_count": 32,
      "metadata": {
        "id": "hRcfpcyJNVgF"
      },
      "outputs": [],
      "source": [
        "data.loc[data['Annual Income'] > 239287, 'Annual Income'] = 239287"
      ]
    },
    {
      "cell_type": "code",
      "execution_count": 33,
      "metadata": {
        "id": "oEWMLUsCNv8a",
        "colab": {
          "base_uri": "https://localhost:8080/"
        },
        "outputId": "ca36af5d-b054-44c3-d5a5-db2637917f71"
      },
      "outputs": [
        {
          "output_type": "execute_result",
          "data": {
            "text/plain": [
              "21338"
            ]
          },
          "metadata": {},
          "execution_count": 33
        }
      ],
      "source": [
        "data[\"Annual Income\"].isna().sum()"
      ]
    },
    {
      "cell_type": "code",
      "execution_count": 34,
      "metadata": {
        "id": "bqqIABaiOVmQ",
        "colab": {
          "base_uri": "https://localhost:8080/"
        },
        "outputId": "5b7348ad-e37c-4dbd-d896-c36443c7b103"
      },
      "outputs": [
        {
          "output_type": "execute_result",
          "data": {
            "text/plain": [
              "Debt Consolidation      70447\n",
              "Home Improvements        5206\n",
              "other                    4917\n",
              "Other                    2850\n",
              "Business Loan            1328\n",
              "Buy a Car                1196\n",
              "Medical Bills             955\n",
              "Buy House                 559\n",
              "Take a Trip               454\n",
              "major_purchase            344\n",
              "small_business            248\n",
              "moving                    124\n",
              "wedding                    99\n",
              "Educational Expenses       92\n",
              "vacation                   82\n",
              "renewable_energy            9\n",
              "Name: Purpose, dtype: int64"
            ]
          },
          "metadata": {},
          "execution_count": 34
        }
      ],
      "source": [
        "data[\"Purpose\"].value_counts()"
      ]
    },
    {
      "cell_type": "code",
      "execution_count": 35,
      "metadata": {
        "id": "BzUgWiQWQtcL"
      },
      "outputs": [],
      "source": [
        "data[\"Purpose\"] = data['Purpose'].str.replace('Other', 'other', regex=True)"
      ]
    },
    {
      "cell_type": "code",
      "execution_count": 36,
      "metadata": {
        "id": "Zfs2i_quQ6em",
        "colab": {
          "base_uri": "https://localhost:8080/"
        },
        "outputId": "3cbf7608-6395-4a1a-8e1e-93c34d5e2422"
      },
      "outputs": [
        {
          "output_type": "execute_result",
          "data": {
            "text/plain": [
              "Debt Consolidation      70447\n",
              "other                    7767\n",
              "Home Improvements        5206\n",
              "Business Loan            1328\n",
              "Buy a Car                1196\n",
              "Medical Bills             955\n",
              "Buy House                 559\n",
              "Take a Trip               454\n",
              "major_purchase            344\n",
              "small_business            248\n",
              "moving                    124\n",
              "wedding                    99\n",
              "Educational Expenses       92\n",
              "vacation                   82\n",
              "renewable_energy            9\n",
              "Name: Purpose, dtype: int64"
            ]
          },
          "metadata": {},
          "execution_count": 36
        }
      ],
      "source": [
        "data['Purpose'].value_counts()"
      ]
    },
    {
      "cell_type": "code",
      "execution_count": 37,
      "metadata": {
        "id": "l2LL0humRF--",
        "colab": {
          "base_uri": "https://localhost:8080/"
        },
        "outputId": "a347907f-ba1a-42b5-d78b-00948151902b"
      },
      "outputs": [
        {
          "output_type": "execute_result",
          "data": {
            "text/plain": [
              "count     88910\n",
              "unique    70066\n",
              "top           0\n",
              "freq         69\n",
              "Name: Monthly Debt, dtype: object"
            ]
          },
          "metadata": {},
          "execution_count": 37
        }
      ],
      "source": [
        "data['Monthly Debt'].describe()"
      ]
    },
    {
      "cell_type": "code",
      "execution_count": 38,
      "metadata": {
        "id": "s16TpJsORPAA"
      },
      "outputs": [],
      "source": [
        "data['Monthly Debt'] = data[\"Monthly Debt\"].str.replace(\"$\",'',regex=True)"
      ]
    },
    {
      "cell_type": "code",
      "execution_count": 39,
      "metadata": {
        "id": "8FvC49XwRkyX"
      },
      "outputs": [],
      "source": [
        "data['Monthly Debt']=pd.to_numeric(data['Monthly Debt'])"
      ]
    },
    {
      "cell_type": "code",
      "execution_count": 40,
      "metadata": {
        "id": "O4V1huAfRpLX",
        "colab": {
          "base_uri": "https://localhost:8080/"
        },
        "outputId": "5a696b60-1a32-48ef-8395-d5032a5dc669"
      },
      "outputs": [
        {
          "output_type": "execute_result",
          "data": {
            "text/plain": [
              "count    88910.000000\n",
              "mean       963.102059\n",
              "std        637.524064\n",
              "min          0.000000\n",
              "25%        532.220000\n",
              "50%        843.925000\n",
              "75%       1250.527500\n",
              "max      22939.120000\n",
              "Name: Monthly Debt, dtype: float64"
            ]
          },
          "metadata": {},
          "execution_count": 40
        }
      ],
      "source": [
        "data['Monthly Debt'].describe()"
      ]
    },
    {
      "cell_type": "code",
      "execution_count": 41,
      "metadata": {
        "id": "bE3ugQdYR4eY",
        "colab": {
          "base_uri": "https://localhost:8080/"
        },
        "outputId": "387ad169-fc75-480f-8900-22b532461caf"
      },
      "outputs": [
        {
          "output_type": "execute_result",
          "data": {
            "text/plain": [
              "0.200     463.75000\n",
              "0.750    1250.52750\n",
              "0.900    1743.08300\n",
              "0.950    2115.51100\n",
              "0.990    3087.11100\n",
              "0.999    4926.37475\n",
              "Name: Monthly Debt, dtype: float64"
            ]
          },
          "metadata": {},
          "execution_count": 41
        }
      ],
      "source": [
        "data['Monthly Debt'].quantile([0.2,0.75,0.90,0.95,0.99,0.999])"
      ]
    },
    {
      "cell_type": "code",
      "execution_count": 42,
      "metadata": {
        "id": "lsKh4UDnSFNP"
      },
      "outputs": [],
      "source": [
        "data.loc[data['Monthly Debt'] > 4926, 'Monthly Debt'] =  4926"
      ]
    },
    {
      "cell_type": "code",
      "execution_count": 43,
      "metadata": {
        "id": "mRBkQs6iS551",
        "colab": {
          "base_uri": "https://localhost:8080/",
          "height": 669
        },
        "outputId": "de3b7959-9695-4f1b-95a6-5dbd28a6be73"
      },
      "outputs": [
        {
          "output_type": "stream",
          "name": "stderr",
          "text": [
            "<ipython-input-43-a0a055fa903b>:1: UserWarning: \n",
            "\n",
            "`distplot` is a deprecated function and will be removed in seaborn v0.14.0.\n",
            "\n",
            "Please adapt your code to use either `displot` (a figure-level function with\n",
            "similar flexibility) or `histplot` (an axes-level function for histograms).\n",
            "\n",
            "For a guide to updating your code to use the new functions, please see\n",
            "https://gist.github.com/mwaskom/de44147ed2974457ad6372750bbe5751\n",
            "\n",
            "  sns.distplot(data['Monthly Debt'])\n"
          ]
        },
        {
          "output_type": "execute_result",
          "data": {
            "text/plain": [
              "<Axes: xlabel='Monthly Debt', ylabel='Density'>"
            ]
          },
          "metadata": {},
          "execution_count": 43
        },
        {
          "output_type": "display_data",
          "data": {
            "text/plain": [
              "<Figure size 640x480 with 1 Axes>"
            ],
            "image/png": "[encoded data removed]"
          },
          "metadata": {}
        }
      ],
      "source": [
        "sns.distplot(data['Monthly Debt'])"
      ]
    },
    {
      "cell_type": "code",
      "execution_count": 44,
      "metadata": {
        "id": "D8zWo1uFS9jC",
        "colab": {
          "base_uri": "https://localhost:8080/"
        },
        "outputId": "2e24f04c-8e5c-4e2a-d481-0123cf7f21f2"
      },
      "outputs": [
        {
          "output_type": "execute_result",
          "data": {
            "text/plain": [
              "count    88910.000000\n",
              "mean        18.315313\n",
              "std          7.049175\n",
              "min          3.600000\n",
              "25%         13.500000\n",
              "50%         17.000000\n",
              "75%         21.800000\n",
              "max         70.500000\n",
              "Name: Years of Credit History, dtype: float64"
            ]
          },
          "metadata": {},
          "execution_count": 44
        }
      ],
      "source": [
        "data['Years of Credit History'].describe()"
      ]
    },
    {
      "cell_type": "code",
      "execution_count": 45,
      "metadata": {
        "id": "d_63hbqNTrF_",
        "colab": {
          "base_uri": "https://localhost:8080/",
          "height": 669
        },
        "outputId": "c5a71cbb-99f1-4639-a579-a4890cb21fff"
      },
      "outputs": [
        {
          "output_type": "stream",
          "name": "stderr",
          "text": [
            "<ipython-input-45-168237ab8a62>:1: UserWarning: \n",
            "\n",
            "`distplot` is a deprecated function and will be removed in seaborn v0.14.0.\n",
            "\n",
            "Please adapt your code to use either `displot` (a figure-level function with\n",
            "similar flexibility) or `histplot` (an axes-level function for histograms).\n",
            "\n",
            "For a guide to updating your code to use the new functions, please see\n",
            "https://gist.github.com/mwaskom/de44147ed2974457ad6372750bbe5751\n",
            "\n",
            "  sns.distplot(data['Years of Credit History'])\n"
          ]
        },
        {
          "output_type": "execute_result",
          "data": {
            "text/plain": [
              "<Axes: xlabel='Years of Credit History', ylabel='Density'>"
            ]
          },
          "metadata": {},
          "execution_count": 45
        },
        {
          "output_type": "display_data",
          "data": {
            "text/plain": [
              "<Figure size 640x480 with 1 Axes>"
            ],
            "image/png": "[encoded data removed]"
          },
          "metadata": {}
        }
      ],
      "source": [
        "sns.distplot(data['Years of Credit History'])"
      ]
    },
    {
      "cell_type": "code",
      "execution_count": 46,
      "metadata": {
        "id": "DpH96or8TwDp",
        "colab": {
          "base_uri": "https://localhost:8080/"
        },
        "outputId": "cc0b53a9-f471-433d-b3c2-2f3a4231f418"
      },
      "outputs": [
        {
          "output_type": "execute_result",
          "data": {
            "text/plain": [
              "48506"
            ]
          },
          "metadata": {},
          "execution_count": 46
        }
      ],
      "source": [
        "data['Months since last delinquent'].isna().sum()"
      ]
    },
    {
      "cell_type": "code",
      "execution_count": 47,
      "metadata": {
        "id": "Kh4Z2AzqUbCn",
        "colab": {
          "base_uri": "https://localhost:8080/"
        },
        "outputId": "0c3ff82f-ec9d-45e9-85ae-a337b18b69cf"
      },
      "outputs": [
        {
          "output_type": "execute_result",
          "data": {
            "text/plain": [
              "count    88910.000000\n",
              "mean        11.110348\n",
              "std          4.978461\n",
              "min          0.000000\n",
              "25%          8.000000\n",
              "50%         10.000000\n",
              "75%         14.000000\n",
              "max         76.000000\n",
              "Name: Number of Open Accounts, dtype: float64"
            ]
          },
          "metadata": {},
          "execution_count": 47
        }
      ],
      "source": [
        "data['Number of Open Accounts'].describe()"
      ]
    },
    {
      "cell_type": "code",
      "execution_count": 48,
      "metadata": {
        "id": "Yjc0DjA-Up33",
        "colab": {
          "base_uri": "https://localhost:8080/",
          "height": 685
        },
        "outputId": "687efaa4-c530-49f3-d819-3fa91fc82e34"
      },
      "outputs": [
        {
          "output_type": "stream",
          "name": "stderr",
          "text": [
            "<ipython-input-48-9f2a18ccbe61>:1: UserWarning: \n",
            "\n",
            "`distplot` is a deprecated function and will be removed in seaborn v0.14.0.\n",
            "\n",
            "Please adapt your code to use either `displot` (a figure-level function with\n",
            "similar flexibility) or `histplot` (an axes-level function for histograms).\n",
            "\n",
            "For a guide to updating your code to use the new functions, please see\n",
            "https://gist.github.com/mwaskom/de44147ed2974457ad6372750bbe5751\n",
            "\n",
            "  sns.distplot(data['Current Credit Balance'])\n"
          ]
        },
        {
          "output_type": "execute_result",
          "data": {
            "text/plain": [
              "<Axes: xlabel='Current Credit Balance', ylabel='Density'>"
            ]
          },
          "metadata": {},
          "execution_count": 48
        },
        {
          "output_type": "display_data",
          "data": {
            "text/plain": [
              "<Figure size 640x480 with 1 Axes>"
            ],
            "image/png": "[encoded data removed]"
          },
          "metadata": {}
        }
      ],
      "source": [
        "sns.distplot(data['Current Credit Balance'])"
      ]
    },
    {
      "cell_type": "code",
      "execution_count": 49,
      "metadata": {
        "id": "wK_Q0HF2VRYp",
        "colab": {
          "base_uri": "https://localhost:8080/"
        },
        "outputId": "4d2a2ea8-d6a0-4c34-960a-cf1255418bce"
      },
      "outputs": [
        {
          "output_type": "execute_result",
          "data": {
            "text/plain": [
              "0.95      39933.30\n",
              "0.96      43501.20\n",
              "0.96      43501.20\n",
              "0.97      48507.73\n",
              "0.98      57938.12\n",
              "0.99      81007.19\n",
              "1.00    1730472.00\n",
              "Name: Current Credit Balance, dtype: float64"
            ]
          },
          "metadata": {},
          "execution_count": 49
        }
      ],
      "source": [
        "data['Current Credit Balance'].quantile([0.95,0.96,0.96,0.97,0.98,0.99,1])"
      ]
    },
    {
      "cell_type": "code",
      "execution_count": 50,
      "metadata": {
        "id": "TT8vLXkTVhFp"
      },
      "outputs": [],
      "source": [
        "data.loc[data['Current Credit Balance'] > 81007, 'Current Credit Balance'] = 81007"
      ]
    },
    {
      "cell_type": "code",
      "execution_count": 51,
      "metadata": {
        "id": "ptKF06JIWz83",
        "colab": {
          "base_uri": "https://localhost:8080/",
          "height": 669
        },
        "outputId": "c59042b9-9bc4-40b6-f18d-9b3d961ad180"
      },
      "outputs": [
        {
          "output_type": "stream",
          "name": "stderr",
          "text": [
            "<ipython-input-51-44e8ee6e5fdd>:1: UserWarning: \n",
            "\n",
            "`distplot` is a deprecated function and will be removed in seaborn v0.14.0.\n",
            "\n",
            "Please adapt your code to use either `displot` (a figure-level function with\n",
            "similar flexibility) or `histplot` (an axes-level function for histograms).\n",
            "\n",
            "For a guide to updating your code to use the new functions, please see\n",
            "https://gist.github.com/mwaskom/de44147ed2974457ad6372750bbe5751\n",
            "\n",
            "  sns.distplot(data['Current Credit Balance']**(1/2))\n"
          ]
        },
        {
          "output_type": "execute_result",
          "data": {
            "text/plain": [
              "<Axes: xlabel='Current Credit Balance', ylabel='Density'>"
            ]
          },
          "metadata": {},
          "execution_count": 51
        },
        {
          "output_type": "display_data",
          "data": {
            "text/plain": [
              "<Figure size 640x480 with 1 Axes>"
            ],
            "image/png": "[encoded data removed]"
          },
          "metadata": {}
        }
      ],
      "source": [
        "sns.distplot(data['Current Credit Balance']**(1/2))"
      ]
    },
    {
      "cell_type": "code",
      "execution_count": 52,
      "metadata": {
        "id": "FXWHJ1EqXD6F",
        "colab": {
          "base_uri": "https://localhost:8080/"
        },
        "outputId": "35db36fc-8fd3-4ded-e52b-21d81b4609eb"
      },
      "outputs": [
        {
          "output_type": "execute_result",
          "data": {
            "text/plain": [
              "count     88910\n",
              "unique    46625\n",
              "top           0\n",
              "freq        610\n",
              "Name: Maximum Open Credit, dtype: object"
            ]
          },
          "metadata": {},
          "execution_count": 52
        }
      ],
      "source": [
        "data['Maximum Open Credit'].describe()"
      ]
    },
    {
      "cell_type": "code",
      "execution_count": 53,
      "metadata": {
        "id": "knRr5qrEX-y3",
        "colab": {
          "base_uri": "https://localhost:8080/"
        },
        "outputId": "f84c3493-fbbf-4d19-ace3-7be3b062dbe3"
      },
      "outputs": [
        {
          "output_type": "execute_result",
          "data": {
            "text/plain": [
              "0        610\n",
              "10782     10\n",
              "14382     10\n",
              "17464     10\n",
              "11044     10\n",
              "        ... \n",
              "46635      1\n",
              "25110      1\n",
              "54780      1\n",
              "42402      1\n",
              "53374      1\n",
              "Name: Maximum Open Credit, Length: 46625, dtype: int64"
            ]
          },
          "metadata": {},
          "execution_count": 53
        }
      ],
      "source": [
        "data['Maximum Open Credit'].value_counts()"
      ]
    },
    {
      "cell_type": "code",
      "execution_count": 56,
      "metadata": {
        "id": "ihS8R2TAYF4m",
        "colab": {
          "base_uri": "https://localhost:8080/",
          "height": 685
        },
        "outputId": "f0cbf5ca-d87f-483c-ca2a-0376b2e4e6b7"
      },
      "outputs": [
        {
          "output_type": "stream",
          "name": "stderr",
          "text": [
            "<ipython-input-56-78aae5c6ae52>:1: UserWarning: \n",
            "\n",
            "`distplot` is a deprecated function and will be removed in seaborn v0.14.0.\n",
            "\n",
            "Please adapt your code to use either `displot` (a figure-level function with\n",
            "similar flexibility) or `histplot` (an axes-level function for histograms).\n",
            "\n",
            "For a guide to updating your code to use the new functions, please see\n",
            "https://gist.github.com/mwaskom/de44147ed2974457ad6372750bbe5751\n",
            "\n",
            "  sns.distplot(data['Maximum Open Credit'])\n"
          ]
        },
        {
          "output_type": "execute_result",
          "data": {
            "text/plain": [
              "<Axes: xlabel='Maximum Open Credit', ylabel='Density'>"
            ]
          },
          "metadata": {},
          "execution_count": 56
        },
        {
          "output_type": "display_data",
          "data": {
            "text/plain": [
              "<Figure size 640x480 with 1 Axes>"
            ],
            "image/png": "[encoded data removed]"
          },
          "metadata": {}
        }
      ],
      "source": [
        "sns.distplot(data['Maximum Open Credit'])"
      ]
    },
    {
      "cell_type": "code",
      "execution_count": 57,
      "metadata": {
        "id": "cMhdoMqfYTFQ"
      },
      "outputs": [],
      "source": [
        "data['Maximum Open Credit'] = data['Maximum Open Credit'].replace(\"#VALUE!\", np.nan, regex=True)"
      ]
    },
    {
      "cell_type": "code",
      "execution_count": 58,
      "metadata": {
        "id": "ovQ12yXLYe-U"
      },
      "outputs": [],
      "source": [
        "data['Maximum Open Credit'] = pd.to_numeric(data['Maximum Open Credit'])"
      ]
    },
    {
      "cell_type": "code",
      "execution_count": 59,
      "metadata": {
        "id": "cQqFcZu0Y35W",
        "colab": {
          "base_uri": "https://localhost:8080/"
        },
        "outputId": "a2e3c112-9d47-4257-9502-633df70fbb4e"
      },
      "outputs": [
        {
          "output_type": "execute_result",
          "data": {
            "text/plain": [
              "2"
            ]
          },
          "metadata": {},
          "execution_count": 59
        }
      ],
      "source": [
        "data['Maximum Open Credit'].isnull().sum()"
      ]
    },
    {
      "cell_type": "code",
      "execution_count": 60,
      "metadata": {
        "id": "cLks42xVZDKS"
      },
      "outputs": [],
      "source": [
        "data['Maximum Open Credit'] = data['Maximum Open Credit'].fillna(35965)"
      ]
    },
    {
      "cell_type": "code",
      "execution_count": 61,
      "metadata": {
        "id": "Hy7d12HwZOEM",
        "colab": {
          "base_uri": "https://localhost:8080/"
        },
        "outputId": "3057e2eb-dd4f-4fdd-cb19-44b027b77b24"
      },
      "outputs": [
        {
          "output_type": "execute_result",
          "data": {
            "text/plain": [
              "0.55       24037.95\n",
              "0.76       37259.84\n",
              "0.87       50736.66\n",
              "0.98      114682.56\n",
              "0.99      171423.91\n",
              "1.00    69988086.00\n",
              "Name: Maximum Open Credit, dtype: float64"
            ]
          },
          "metadata": {},
          "execution_count": 61
        }
      ],
      "source": [
        "data['Maximum Open Credit'].quantile([0.55,0.76,0.87,0.98,0.99,1])"
      ]
    },
    {
      "cell_type": "code",
      "execution_count": 62,
      "metadata": {
        "id": "N8YJJA_6ZZIi"
      },
      "outputs": [],
      "source": [
        "data.loc[data['Maximum Open Credit'] > 171424, 'Maximum Open Credit'] = 171424"
      ]
    },
    {
      "cell_type": "code",
      "execution_count": 63,
      "metadata": {
        "id": "1T5h1SBfZuQT",
        "colab": {
          "base_uri": "https://localhost:8080/"
        },
        "outputId": "8e2ab95c-33eb-47ec-dfe7-195cf00b860d"
      },
      "outputs": [
        {
          "output_type": "execute_result",
          "data": {
            "text/plain": [
              "171424.0    890\n",
              "0.0         610\n",
              "11044.0      10\n",
              "10782.0      10\n",
              "17464.0      10\n",
              "           ... \n",
              "70865.0       1\n",
              "20726.0       1\n",
              "32515.0       1\n",
              "58164.0       1\n",
              "53374.0       1\n",
              "Name: Maximum Open Credit, Length: 45738, dtype: int64"
            ]
          },
          "metadata": {},
          "execution_count": 63
        }
      ],
      "source": [
        "data['Maximum Open Credit'].value_counts()"
      ]
    },
    {
      "cell_type": "code",
      "execution_count": 64,
      "metadata": {
        "id": "sxJHqQQ9Z1NS",
        "colab": {
          "base_uri": "https://localhost:8080/",
          "height": 685
        },
        "outputId": "9af8bdb3-56f1-472a-d3a1-1190ac1c75e2"
      },
      "outputs": [
        {
          "output_type": "stream",
          "name": "stderr",
          "text": [
            "<ipython-input-64-78aae5c6ae52>:1: UserWarning: \n",
            "\n",
            "`distplot` is a deprecated function and will be removed in seaborn v0.14.0.\n",
            "\n",
            "Please adapt your code to use either `displot` (a figure-level function with\n",
            "similar flexibility) or `histplot` (an axes-level function for histograms).\n",
            "\n",
            "For a guide to updating your code to use the new functions, please see\n",
            "https://gist.github.com/mwaskom/de44147ed2974457ad6372750bbe5751\n",
            "\n",
            "  sns.distplot(data['Maximum Open Credit'])\n"
          ]
        },
        {
          "output_type": "execute_result",
          "data": {
            "text/plain": [
              "<Axes: xlabel='Maximum Open Credit', ylabel='Density'>"
            ]
          },
          "metadata": {},
          "execution_count": 64
        },
        {
          "output_type": "display_data",
          "data": {
            "text/plain": [
              "<Figure size 640x480 with 1 Axes>"
            ],
            "image/png": "[encoded data removed]"
          },
          "metadata": {}
        }
      ],
      "source": [
        "sns.distplot(data['Maximum Open Credit'])"
      ]
    },
    {
      "cell_type": "code",
      "execution_count": 65,
      "metadata": {
        "id": "Hl5wiEibZ-wO",
        "colab": {
          "base_uri": "https://localhost:8080/"
        },
        "outputId": "db131abf-5b74-481d-e770-1c8cebfb45f7"
      },
      "outputs": [
        {
          "output_type": "execute_result",
          "data": {
            "text/plain": [
              "array([ 0.,  1., nan,  2.,  4.,  3.,  5.,  7.,  6.])"
            ]
          },
          "metadata": {},
          "execution_count": 65
        }
      ],
      "source": [
        "data['Bankruptcies'].unique()"
      ]
    },
    {
      "cell_type": "code",
      "execution_count": 66,
      "metadata": {
        "id": "zJeXe3fmaFe4"
      },
      "outputs": [],
      "source": [
        "data['Bankruptcies']= data['Bankruptcies'].fillna(3)"
      ]
    },
    {
      "cell_type": "code",
      "execution_count": 67,
      "metadata": {
        "id": "XvGOx0PSanzh"
      },
      "outputs": [],
      "source": [
        "cat_cols = [\"Term\", \"Years in current job\", \"Home Ownership\", \"Purpose\"]\n",
        "\n",
        "for c in cat_cols:\n",
        "  data[c] = pd.factorize(data[c])[0]"
      ]
    },
    {
      "cell_type": "code",
      "source": [],
      "metadata": {
        "id": "r0ndjpUu3nfM"
      },
      "execution_count": 67,
      "outputs": []
    },
    {
      "cell_type": "code",
      "source": [
        "pip install fancyimpute"
      ],
      "metadata": {
        "colab": {
          "base_uri": "https://localhost:8080/"
        },
        "id": "6vBGUaPnJNuX",
        "outputId": "a4dd6852-39cc-44b7-9caa-7c758a5c5a7e"
      },
      "execution_count": 68,
      "outputs": [
        {
          "output_type": "stream",
          "name": "stdout",
          "text": [
            "Collecting fancyimpute\n",
            "  Downloading fancyimpute-0.7.0.tar.gz (25 kB)\n",
            "  Preparing metadata (setup.py) ... \u001b[?25l\u001b[?25hdone\n",
            "Collecting knnimpute>=0.1.0 (from fancyimpute)\n",
            "  Downloading knnimpute-0.1.0.tar.gz (8.3 kB)\n",
            "  Preparing metadata (setup.py) ... \u001b[?25l\u001b[?25hdone\n",
            "Requirement already satisfied: scikit-learn>=0.24.2 in /usr/local/lib/python3.10/dist-packages (from fancyimpute) (1.2.2)\n",
            "Requirement already satisfied: cvxpy in /usr/local/lib/python3.10/dist-packages (from fancyimpute) (1.3.2)\n",
            "Requirement already satisfied: cvxopt in /usr/local/lib/python3.10/dist-packages (from fancyimpute) (1.3.2)\n",
            "Requirement already satisfied: pytest in /usr/local/lib/python3.10/dist-packages (from fancyimpute) (7.4.1)\n",
            "Collecting nose (from fancyimpute)\n",
            "  Downloading nose-1.3.7-py3-none-any.whl (154 kB)\n",
            "\u001b[2K     \u001b[90m━━━━━━━━━━━━━━━━━━━━━━━━━━━━━━━━━━━━━━━\u001b[0m \u001b[32m154.7/154.7 kB\u001b[0m \u001b[31m4.7 MB/s\u001b[0m eta \u001b[36m0:00:00\u001b[0m\n",
            "\u001b[?25hRequirement already satisfied: six in /usr/local/lib/python3.10/dist-packages (from knnimpute>=0.1.0->fancyimpute) (1.16.0)\n",
            "Requirement already satisfied: numpy>=1.10 in /usr/local/lib/python3.10/dist-packages (from knnimpute>=0.1.0->fancyimpute) (1.23.5)\n",
            "Requirement already satisfied: scipy>=1.3.2 in /usr/local/lib/python3.10/dist-packages (from scikit-learn>=0.24.2->fancyimpute) (1.11.2)\n",
            "Requirement already satisfied: joblib>=1.1.1 in /usr/local/lib/python3.10/dist-packages (from scikit-learn>=0.24.2->fancyimpute) (1.3.2)\n",
            "Requirement already satisfied: threadpoolctl>=2.0.0 in /usr/local/lib/python3.10/dist-packages (from scikit-learn>=0.24.2->fancyimpute) (3.2.0)\n",
            "Requirement already satisfied: osqp>=0.4.1 in /usr/local/lib/python3.10/dist-packages (from cvxpy->fancyimpute) (0.6.2.post8)\n",
            "Requirement already satisfied: ecos>=2 in /usr/local/lib/python3.10/dist-packages (from cvxpy->fancyimpute) (2.0.12)\n",
            "Requirement already satisfied: scs>=1.1.6 in /usr/local/lib/python3.10/dist-packages (from cvxpy->fancyimpute) (3.2.3)\n",
            "Requirement already satisfied: setuptools>65.5.1 in /usr/local/lib/python3.10/dist-packages (from cvxpy->fancyimpute) (67.7.2)\n",
            "Requirement already satisfied: iniconfig in /usr/local/lib/python3.10/dist-packages (from pytest->fancyimpute) (2.0.0)\n",
            "Requirement already satisfied: packaging in /usr/local/lib/python3.10/dist-packages (from pytest->fancyimpute) (23.1)\n",
            "Requirement already satisfied: pluggy<2.0,>=0.12 in /usr/local/lib/python3.10/dist-packages (from pytest->fancyimpute) (1.3.0)\n",
            "Requirement already satisfied: exceptiongroup>=1.0.0rc8 in /usr/local/lib/python3.10/dist-packages (from pytest->fancyimpute) (1.1.3)\n",
            "Requirement already satisfied: tomli>=1.0.0 in /usr/local/lib/python3.10/dist-packages (from pytest->fancyimpute) (2.0.1)\n",
            "Requirement already satisfied: qdldl in /usr/local/lib/python3.10/dist-packages (from osqp>=0.4.1->cvxpy->fancyimpute) (0.1.7.post0)\n",
            "Building wheels for collected packages: fancyimpute, knnimpute\n",
            "  Building wheel for fancyimpute (setup.py) ... \u001b[?25l\u001b[?25hdone\n",
            "  Created wheel for fancyimpute: filename=fancyimpute-0.7.0-py3-none-any.whl size=29880 sha256=fa1fa1deff5d31ed1032641628a4b074ccca5e4e08b79ddbd201b34caa7014fd\n",
            "  Stored in directory: /root/.cache/pip/wheels/7b/0c/d3/ee82d1fbdcc0858d96434af108608d01703505d453720c84ed\n",
            "  Building wheel for knnimpute (setup.py) ... \u001b[?25l\u001b[?25hdone\n",
            "  Created wheel for knnimpute: filename=knnimpute-0.1.0-py3-none-any.whl size=11329 sha256=f973f78620d072d49bc03c8b10c045af996ead15ba62997b2b33bb9164f65d83\n",
            "  Stored in directory: /root/.cache/pip/wheels/46/06/a5/45a724630562413c374e29c08732411d496092408b3a7bf754\n",
            "Successfully built fancyimpute knnimpute\n",
            "Installing collected packages: nose, knnimpute, fancyimpute\n",
            "Successfully installed fancyimpute-0.7.0 knnimpute-0.1.0 nose-1.3.7\n"
          ]
        }
      ]
    },
    {
      "cell_type": "code",
      "source": [
        "from fancyimpute import SoftImpute\n",
        "updated_data = pd.DataFrame(data=SoftImpute().fit_transform(data[data.columns[3:19]],), columns=data[data.columns[3:19]].columns, index=data.index)"
      ],
      "metadata": {
        "colab": {
          "base_uri": "https://localhost:8080/"
        },
        "id": "8MQacCF4WT8M",
        "outputId": "ac50877d-1251-498d-e547-f7a73626af96"
      },
      "execution_count": 69,
      "outputs": [
        {
          "output_type": "stream",
          "name": "stdout",
          "text": [
            "[SoftImpute] Max Singular Value of X_init = 23574150.104163\n",
            "[SoftImpute] Iter 1: observed MAE=326.426195 rank=4\n",
            "[SoftImpute] Iter 2: observed MAE=326.400343 rank=4\n",
            "[SoftImpute] Iter 3: observed MAE=326.423126 rank=4\n",
            "[SoftImpute] Iter 4: observed MAE=326.458099 rank=4\n",
            "[SoftImpute] Iter 5: observed MAE=326.495235 rank=4\n",
            "[SoftImpute] Iter 6: observed MAE=326.531864 rank=4\n",
            "[SoftImpute] Iter 7: observed MAE=326.567165 rank=4\n",
            "[SoftImpute] Iter 8: observed MAE=326.600913 rank=4\n",
            "[SoftImpute] Iter 9: observed MAE=326.632870 rank=4\n",
            "[SoftImpute] Iter 10: observed MAE=326.662948 rank=4\n",
            "[SoftImpute] Iter 11: observed MAE=326.691188 rank=4\n",
            "[SoftImpute] Iter 12: observed MAE=326.717619 rank=4\n",
            "[SoftImpute] Iter 13: observed MAE=326.742376 rank=4\n",
            "[SoftImpute] Iter 14: observed MAE=326.765656 rank=4\n",
            "[SoftImpute] Iter 15: observed MAE=326.787389 rank=4\n",
            "[SoftImpute] Iter 16: observed MAE=326.807769 rank=4\n",
            "[SoftImpute] Iter 17: observed MAE=326.826690 rank=4\n",
            "[SoftImpute] Iter 18: observed MAE=326.844363 rank=4\n",
            "[SoftImpute] Iter 19: observed MAE=326.860781 rank=4\n",
            "[SoftImpute] Iter 20: observed MAE=326.875886 rank=4\n",
            "[SoftImpute] Iter 21: observed MAE=326.889800 rank=4\n",
            "[SoftImpute] Iter 22: observed MAE=326.902600 rank=4\n",
            "[SoftImpute] Iter 23: observed MAE=326.914291 rank=4\n",
            "[SoftImpute] Iter 24: observed MAE=326.924976 rank=4\n",
            "[SoftImpute] Iter 25: observed MAE=326.934655 rank=4\n",
            "[SoftImpute] Iter 26: observed MAE=326.943389 rank=4\n",
            "[SoftImpute] Iter 27: observed MAE=326.951124 rank=4\n",
            "[SoftImpute] Iter 28: observed MAE=326.957951 rank=4\n",
            "[SoftImpute] Iter 29: observed MAE=326.963925 rank=4\n",
            "[SoftImpute] Iter 30: observed MAE=326.969113 rank=4\n",
            "[SoftImpute] Iter 31: observed MAE=326.973592 rank=4\n",
            "[SoftImpute] Iter 32: observed MAE=326.977334 rank=4\n",
            "[SoftImpute] Iter 33: observed MAE=326.980448 rank=4\n",
            "[SoftImpute] Iter 34: observed MAE=326.982933 rank=4\n",
            "[SoftImpute] Iter 35: observed MAE=326.984729 rank=4\n",
            "[SoftImpute] Iter 36: observed MAE=326.985899 rank=4\n",
            "[SoftImpute] Iter 37: observed MAE=326.986496 rank=4\n",
            "[SoftImpute] Iter 38: observed MAE=326.986554 rank=4\n",
            "[SoftImpute] Iter 39: observed MAE=326.986115 rank=4\n",
            "[SoftImpute] Iter 40: observed MAE=326.985189 rank=4\n",
            "[SoftImpute] Iter 41: observed MAE=326.983839 rank=4\n",
            "[SoftImpute] Iter 42: observed MAE=326.982080 rank=4\n",
            "[SoftImpute] Iter 43: observed MAE=326.979943 rank=4\n",
            "[SoftImpute] Iter 44: observed MAE=326.977470 rank=4\n",
            "[SoftImpute] Iter 45: observed MAE=326.974699 rank=4\n",
            "[SoftImpute] Iter 46: observed MAE=326.971659 rank=4\n",
            "[SoftImpute] Iter 47: observed MAE=326.968344 rank=4\n",
            "[SoftImpute] Iter 48: observed MAE=326.964785 rank=4\n",
            "[SoftImpute] Iter 49: observed MAE=326.961024 rank=4\n",
            "[SoftImpute] Iter 50: observed MAE=326.957074 rank=4\n",
            "[SoftImpute] Iter 51: observed MAE=326.952939 rank=4\n",
            "[SoftImpute] Iter 52: observed MAE=326.948624 rank=4\n",
            "[SoftImpute] Iter 53: observed MAE=326.944120 rank=4\n",
            "[SoftImpute] Iter 54: observed MAE=326.939476 rank=4\n",
            "[SoftImpute] Iter 55: observed MAE=326.934690 rank=4\n",
            "[SoftImpute] Iter 56: observed MAE=326.929818 rank=4\n",
            "[SoftImpute] Iter 57: observed MAE=326.924844 rank=4\n",
            "[SoftImpute] Iter 58: observed MAE=326.919783 rank=4\n",
            "[SoftImpute] Iter 59: observed MAE=326.914640 rank=4\n",
            "[SoftImpute] Iter 60: observed MAE=326.909463 rank=4\n",
            "[SoftImpute] Iter 61: observed MAE=326.904236 rank=4\n",
            "[SoftImpute] Iter 62: observed MAE=326.898977 rank=4\n",
            "[SoftImpute] Iter 63: observed MAE=326.893669 rank=4\n",
            "[SoftImpute] Iter 64: observed MAE=326.888337 rank=4\n",
            "[SoftImpute] Iter 65: observed MAE=326.882988 rank=4\n",
            "[SoftImpute] Iter 66: observed MAE=326.877638 rank=4\n",
            "[SoftImpute] Iter 67: observed MAE=326.872271 rank=4\n",
            "[SoftImpute] Iter 68: observed MAE=326.866891 rank=4\n",
            "[SoftImpute] Iter 69: observed MAE=326.861503 rank=4\n",
            "[SoftImpute] Iter 70: observed MAE=326.856111 rank=4\n",
            "[SoftImpute] Iter 71: observed MAE=326.850748 rank=4\n",
            "[SoftImpute] Iter 72: observed MAE=326.845399 rank=4\n",
            "[SoftImpute] Iter 73: observed MAE=326.840070 rank=4\n",
            "[SoftImpute] Iter 74: observed MAE=326.834765 rank=4\n",
            "[SoftImpute] Iter 75: observed MAE=326.829492 rank=4\n",
            "[SoftImpute] Iter 76: observed MAE=326.824269 rank=4\n",
            "[SoftImpute] Iter 77: observed MAE=326.819080 rank=4\n",
            "[SoftImpute] Iter 78: observed MAE=326.813927 rank=4\n",
            "[SoftImpute] Iter 79: observed MAE=326.808809 rank=4\n",
            "[SoftImpute] Iter 80: observed MAE=326.803732 rank=4\n",
            "[SoftImpute] Iter 81: observed MAE=326.798709 rank=4\n",
            "[SoftImpute] Iter 82: observed MAE=326.793738 rank=4\n",
            "[SoftImpute] Iter 83: observed MAE=326.788818 rank=4\n",
            "[SoftImpute] Iter 84: observed MAE=326.783954 rank=4\n",
            "[SoftImpute] Iter 85: observed MAE=326.779148 rank=4\n",
            "[SoftImpute] Iter 86: observed MAE=326.774420 rank=4\n",
            "[SoftImpute] Iter 87: observed MAE=326.769758 rank=4\n",
            "[SoftImpute] Iter 88: observed MAE=326.765173 rank=4\n",
            "[SoftImpute] Iter 89: observed MAE=326.760664 rank=4\n",
            "[SoftImpute] Iter 90: observed MAE=326.756228 rank=4\n",
            "[SoftImpute] Iter 91: observed MAE=326.751856 rank=4\n",
            "[SoftImpute] Iter 92: observed MAE=326.747566 rank=4\n",
            "[SoftImpute] Iter 93: observed MAE=326.743346 rank=4\n",
            "[SoftImpute] Iter 94: observed MAE=326.739200 rank=4\n",
            "[SoftImpute] Iter 95: observed MAE=326.735134 rank=4\n",
            "[SoftImpute] Iter 96: observed MAE=326.731134 rank=4\n",
            "[SoftImpute] Iter 97: observed MAE=326.727204 rank=4\n",
            "[SoftImpute] Iter 98: observed MAE=326.723343 rank=4\n",
            "[SoftImpute] Iter 99: observed MAE=326.719549 rank=4\n",
            "[SoftImpute] Iter 100: observed MAE=326.715825 rank=4\n",
            "[SoftImpute] Stopped after iteration 100 for lambda=471483.002083\n"
          ]
        }
      ]
    },
    {
      "cell_type": "code",
      "source": [
        "df_LC = pd.get_dummies(updated_data, drop_first=True)"
      ],
      "metadata": {
        "id": "eKfJMYpKWpAe"
      },
      "execution_count": 70,
      "outputs": []
    },
    {
      "cell_type": "code",
      "source": [
        "#Binarize the labels so it becomes suitable for the models\n",
        "\n",
        "lb_style = LabelBinarizer()\n",
        "lb_results = lb_style.fit_transform(data[\"Loan Status\"])\n",
        "y=lb_results\n",
        "y=y.ravel()"
      ],
      "metadata": {
        "id": "h1j2GY6LX8-q"
      },
      "execution_count": 71,
      "outputs": []
    },
    {
      "cell_type": "code",
      "source": [
        "X_scaled = preprocessing.scale(df_LC)\n",
        "print(X_scaled)\n",
        "print('   ')\n",
        "print(X_scaled.shape)"
      ],
      "metadata": {
        "id": "ZOuSMtzSdUfx",
        "colab": {
          "base_uri": "https://localhost:8080/"
        },
        "outputId": "468f8adc-951a-4500-d4a9-f56c19190f1c"
      },
      "execution_count": 72,
      "outputs": [
        {
          "output_type": "stream",
          "name": "stdout",
          "text": [
            "[[-0.21098719 -0.57302977  0.06886311 ... -0.79845395 -0.32295035\n",
            "  -0.10958472]\n",
            " [ 1.46501512  1.74511004  0.26644983 ...  1.83825362 -0.32295035\n",
            "  -0.10958472]\n",
            " [ 0.29842205 -0.57302977 -0.08920626 ... -0.53977303  2.39304617\n",
            "  -0.10958472]\n",
            " ...\n",
            " [ 1.38371943 -0.57302977  0.78017528 ...  0.91232733 -0.32295035\n",
            "  -0.10958472]\n",
            " [-1.15532835 -0.57302977 -0.16824094 ... -0.40393637 -0.32295035\n",
            "  -0.10958472]\n",
            " [ 0.60380535 -0.57302977 -0.32631031 ... -0.30218126 -0.32295035\n",
            "   3.77361167]]\n",
            "   \n",
            "(88910, 16)\n"
          ]
        }
      ]
    },
    {
      "cell_type": "code",
      "source": [
        "X_train, X_test, y_train, y_test = train_test_split(X_scaled, y, test_size=0.3, random_state=22)"
      ],
      "metadata": {
        "id": "DxNr-xef0c_n"
      },
      "execution_count": 73,
      "outputs": []
    },
    {
      "cell_type": "code",
      "source": [
        "from sklearn.metrics import accuracy_score\n",
        "from sklearn.metrics import f1_score\n"
      ],
      "metadata": {
        "id": "VdBXi60eXW3F"
      },
      "execution_count": 74,
      "outputs": []
    },
    {
      "cell_type": "code",
      "source": [
        "def classify(est, x, y,X_test, y_test):\n",
        "  est.fit(x,y)\n",
        "\n",
        "  #predict the probability\n",
        "\n",
        "  y2 = est.predict_proba(X_test)\n",
        "  y1 = est.predict(X_test)\n",
        "\n",
        "  print(\"Accuracy: \", metrics.accuracy_score(y_test,y1))\n",
        "  print(\"Area under the ROC curve: \", metrics.roc_auc_score(y_test, y2[:,1]))\n",
        "\n",
        "  #Calculate different metrics\n",
        "\n",
        "  print(\"F1-Score: \", metrics.f1_score(y_test, y1))\n",
        "  print(\" \")\n",
        "  print(\"Classification Report\")\n",
        "  print(metrics.classification_report(y_test, y1))\n",
        "  print(\" \")\n",
        "  print(\"Eval by cross-validation\")\n",
        "  print(cross_val_score(est,x,y))\n",
        "\n",
        "\n",
        "  return est, y1, y2[:,1]\n"
      ],
      "metadata": {
        "id": "m3zjb7IM1T0Y"
      },
      "execution_count": 75,
      "outputs": []
    },
    {
      "cell_type": "code",
      "source": [
        "xgb0, y_pred_b,y_pred2_b = classify(XGBClassifier(), X_train,y_train,X_test,y_test)\n",
        "\n"
      ],
      "metadata": {
        "colab": {
          "base_uri": "https://localhost:8080/"
        },
        "id": "8FMlpFIH13Kw",
        "outputId": "0826c634-b807-43a6-9b0a-108b56a0a99d"
      },
      "execution_count": 76,
      "outputs": [
        {
          "output_type": "stream",
          "name": "stdout",
          "text": [
            "Accuracy:  0.726389982379185\n",
            "Area under the ROC curve:  0.7375849451553532\n",
            "F1-Score:  0.371728650137741\n",
            " \n",
            "Classification Report\n",
            "              precision    recall  f1-score   support\n",
            "\n",
            "           0       0.76      0.91      0.83     18981\n",
            "           1       0.55      0.28      0.37      7692\n",
            "\n",
            "    accuracy                           0.73     26673\n",
            "   macro avg       0.65      0.59      0.60     26673\n",
            "weighted avg       0.70      0.73      0.69     26673\n",
            "\n",
            " \n",
            "Eval by cross-validation\n",
            "[0.73071979 0.73738753 0.73158191 0.73109986 0.72788624]\n"
          ]
        }
      ]
    },
    {
      "cell_type": "code",
      "source": [
        "knc, y_p, y_p2 = classify(KNeighborsClassifier(), X_train, y_train, X_test, y_test)"
      ],
      "metadata": {
        "colab": {
          "base_uri": "https://localhost:8080/"
        },
        "id": "PZzStJRnXDIG",
        "outputId": "efa77477-6c25-40df-9108-d8d360d19c9a"
      },
      "execution_count": 77,
      "outputs": [
        {
          "output_type": "stream",
          "name": "stdout",
          "text": [
            "Accuracy:  0.6818505604918832\n",
            "Area under the ROC curve:  0.6045621941836739\n",
            "F1-Score:  0.31231766612641815\n",
            " \n",
            "Classification Report\n",
            "              precision    recall  f1-score   support\n",
            "\n",
            "           0       0.74      0.86      0.79     18981\n",
            "           1       0.41      0.25      0.31      7692\n",
            "\n",
            "    accuracy                           0.68     26673\n",
            "   macro avg       0.58      0.55      0.55     26673\n",
            "weighted avg       0.64      0.68      0.65     26673\n",
            "\n",
            " \n",
            "Eval by cross-validation\n",
            "[0.69256105 0.69376607 0.69237567 0.69213465 0.68964409]\n"
          ]
        }
      ]
    },
    {
      "cell_type": "code",
      "source": [
        "xgb0, y_pred_b,y_pred2_b = classify(XGBClassifier(n_estimators=47, learning_rate=0.015), X_train,y_train,X_test,y_test)\n"
      ],
      "metadata": {
        "colab": {
          "base_uri": "https://localhost:8080/"
        },
        "id": "4ORjpYp1bEJr",
        "outputId": "226ca617-f376-448b-9c09-0161e0a03814"
      },
      "execution_count": 78,
      "outputs": [
        {
          "output_type": "stream",
          "name": "stdout",
          "text": [
            "Accuracy:  0.7279646084055037\n",
            "Area under the ROC curve:  0.738937280740795\n",
            "F1-Score:  0.31932457786116325\n",
            " \n",
            "Classification Report\n",
            "              precision    recall  f1-score   support\n",
            "\n",
            "           0       0.75      0.93      0.83     18981\n",
            "           1       0.57      0.22      0.32      7692\n",
            "\n",
            "    accuracy                           0.73     26673\n",
            "   macro avg       0.66      0.58      0.57     26673\n",
            "weighted avg       0.70      0.73      0.68     26673\n",
            "\n",
            " \n",
            "Eval by cross-validation\n",
            "[0.73674486 0.74140424 0.73672371 0.73567928 0.73206395]\n"
          ]
        }
      ]
    },
    {
      "cell_type": "code",
      "source": [
        "logit, y_p, y_p2 = classify(LogisticRegression(), X_train, y_train, X_test, y_test)"
      ],
      "metadata": {
        "colab": {
          "base_uri": "https://localhost:8080/"
        },
        "id": "spcVkX5YboBh",
        "outputId": "14f3c123-436b-44af-abd1-15e7e401a1a1"
      },
      "execution_count": 79,
      "outputs": [
        {
          "output_type": "stream",
          "name": "stdout",
          "text": [
            "Accuracy:  0.7191167097814269\n",
            "Area under the ROC curve:  0.6714594414870847\n",
            "F1-Score:  0.20719576719576718\n",
            " \n",
            "Classification Report\n",
            "              precision    recall  f1-score   support\n",
            "\n",
            "           0       0.73      0.96      0.83     18981\n",
            "           1       0.56      0.13      0.21      7692\n",
            "\n",
            "    accuracy                           0.72     26673\n",
            "   macro avg       0.64      0.54      0.52     26673\n",
            "weighted avg       0.68      0.72      0.65     26673\n",
            "\n",
            " \n",
            "Eval by cross-validation\n",
            "[0.72469473 0.72911311 0.72660079 0.7282076  0.72491363]\n"
          ]
        }
      ]
    },
    {
      "cell_type": "code",
      "source": [
        "dtc, y_p, y_p2 = classify(DecisionTreeClassifier(), X_train, y_train, X_test, y_test)"
      ],
      "metadata": {
        "colab": {
          "base_uri": "https://localhost:8080/"
        },
        "id": "_LoydgTKcwVa",
        "outputId": "24aa215c-e98b-4524-945c-f2b915a2b4e1"
      },
      "execution_count": 80,
      "outputs": [
        {
          "output_type": "stream",
          "name": "stdout",
          "text": [
            "Accuracy:  0.6509578974993439\n",
            "Area under the ROC curve:  0.5787723021486056\n",
            "F1-Score:  0.4028223220012829\n",
            " \n",
            "Classification Report\n",
            "              precision    recall  f1-score   support\n",
            "\n",
            "           0       0.76      0.75      0.75     18981\n",
            "           1       0.40      0.41      0.40      7692\n",
            "\n",
            "    accuracy                           0.65     26673\n",
            "   macro avg       0.58      0.58      0.58     26673\n",
            "weighted avg       0.65      0.65      0.65     26673\n",
            "\n",
            " \n",
            "Eval by cross-validation\n",
            "[0.6531973  0.65094794 0.6582309  0.65742749 0.65059854]\n"
          ]
        }
      ]
    },
    {
      "cell_type": "code",
      "source": [
        "\n",
        "def classify(est, x, y,X_test,y_test):\n",
        "    #Passing the model and train test dataset to fit the model\n",
        "    est.fit(x, y)\n",
        "    #Predicting the probabilities of the Tet data\n",
        "    y2 = est.predict_proba(X_test)\n",
        "    y1 = est.predict(X_test)\n",
        "\n",
        "    print(\"Accuracy: \", metrics.accuracy_score(y_test, y1))\n",
        "    print(\"Area under the ROC curve: \", metrics.roc_auc_score(y_test, y2[:, 1]))\n",
        "    #Calculate different metrics\n",
        "    print(\"F-metric: \", metrics.f1_score(y_test, y1))\n",
        "    print(\" \")\n",
        "    print(\"Classification report:\")\n",
        "    print(metrics.classification_report(y_test, y1))\n",
        "    print(\" \")\n",
        "    print(\"Evaluation by cross-validation:\")\n",
        "    print(cross_val_score(est, x, y))\n",
        "\n",
        "    return est, y1, y2[:, 1]\n",
        "\n",
        "\n",
        "#Function to find which features are more important than others through model\n",
        "def feat_importance(estimator):\n",
        "    feature_importance = {}\n",
        "    for index, name in enumerate(df_LC.columns):\n",
        "        feature_importance[name] = estimator.feature_importances_[index]\n",
        "\n",
        "    feature_importance = {k: v for k, v in feature_importance.items()}\n",
        "    sorted_x = sorted(feature_importance.items(), key=operator.itemgetter(1), reverse = True)\n",
        "\n",
        "    return sorted_x\n",
        "\n",
        "#Model to  predict the ROC curve for various models and finding the best one\n",
        "def run_models(X_train, y_train, X_test, y_test, model_type = 'Non-balanced'):\n",
        "\n",
        "    clfs = {'GradientBoosting': GradientBoostingClassifier(max_depth= 6, n_estimators=100, max_features = 0.3),\n",
        "            'LogisticRegression' : LogisticRegression(),\n",
        "            #'GaussianNB': GaussianNB(),\n",
        "            'RandomForestClassifier': RandomForestClassifier(n_estimators=10),\n",
        "            'XGBClassifier': XGBClassifier()\n",
        "            }\n",
        "    cols = ['model','matthews_corrcoef', 'roc_auc_score', 'precision_score', 'recall_score','f1_score']\n",
        "\n",
        "    models_report = pd.DataFrame(columns = cols)\n",
        "    conf_matrix = dict()\n",
        "\n",
        "    for clf, clf_name in zip(clfs.values(), clfs.keys()):\n",
        "\n",
        "        clf.fit(X_train, y_train)\n",
        "\n",
        "        y_pred = clf.predict(X_test)\n",
        "        y_score = clf.predict_proba(X_test)[:,1]\n",
        "\n",
        "        print('computing {} - {} '.format(clf_name, model_type))\n",
        "\n",
        "        tmp = pd.Series({'model_type': model_type,\n",
        "                         'model': clf_name,\n",
        "                         'roc_auc_score' : metrics.roc_auc_score(y_test, y_score),\n",
        "                         'matthews_corrcoef': metrics.matthews_corrcoef(y_test, y_pred),\n",
        "                         'precision_score': metrics.precision_score(y_test, y_pred),\n",
        "                         'recall_score': metrics.recall_score(y_test, y_pred),\n",
        "                         'f1_score': metrics.f1_score(y_test, y_pred)})\n",
        "\n",
        "        models_report = models_report.append(tmp, ignore_index = True)\n",
        "        conf_matrix[clf_name] = pd.crosstab(y_test, y_pred, rownames=['True'], colnames= ['Predicted'], margins=False)\n",
        "        fpr, tpr, thresholds = metrics.roc_curve(y_test, y_score, drop_intermediate = False, pos_label = 1)\n",
        "\n",
        "        plt.figure(1, figsize=(6,6))\n",
        "        plt.xlabel('false positive rate')\n",
        "        plt.ylabel('true positive rate')\n",
        "        plt.title('ROC curve - {}'.format(model_type))\n",
        "        plt.plot(fpr, tpr, label = clf_name )\n",
        "        plt.legend(loc=2, prop={'size':11})\n",
        "    plt.plot([0,1],[0,1], color = 'black')\n",
        "\n",
        "    return models_report, conf_matrix"
      ],
      "metadata": {
        "id": "uCJTD_lWc9qi"
      },
      "execution_count": 86,
      "outputs": []
    },
    {
      "cell_type": "code",
      "source": [
        "X_train, X_test, y_train, y_test = train_test_split(X_scaled, y, test_size=0.3, random_state=0)\n",
        "models_report, conf_matrix = run_models(X_train, y_train, X_test, y_test, model_type = 'Non-balanced')\n",
        "models_report"
      ],
      "metadata": {
        "id": "DNFIlgVTfhgy",
        "colab": {
          "base_uri": "https://localhost:8080/",
          "height": 942
        },
        "outputId": "88ce98b5-3da6-4cea-cc4d-1c3a13d69aeb"
      },
      "execution_count": 89,
      "outputs": [
        {
          "output_type": "stream",
          "name": "stdout",
          "text": [
            "computing GradientBoosting - Non-balanced \n",
            "computing LogisticRegression - Non-balanced \n"
          ]
        },
        {
          "output_type": "stream",
          "name": "stderr",
          "text": [
            "<ipython-input-86-fb22e8aea435>:64: FutureWarning: The frame.append method is deprecated and will be removed from pandas in a future version. Use pandas.concat instead.\n",
            "  models_report = models_report.append(tmp, ignore_index = True)\n",
            "<ipython-input-86-fb22e8aea435>:64: FutureWarning: The frame.append method is deprecated and will be removed from pandas in a future version. Use pandas.concat instead.\n",
            "  models_report = models_report.append(tmp, ignore_index = True)\n"
          ]
        },
        {
          "output_type": "stream",
          "name": "stdout",
          "text": [
            "computing RandomForestClassifier - Non-balanced \n"
          ]
        },
        {
          "output_type": "stream",
          "name": "stderr",
          "text": [
            "<ipython-input-86-fb22e8aea435>:64: FutureWarning: The frame.append method is deprecated and will be removed from pandas in a future version. Use pandas.concat instead.\n",
            "  models_report = models_report.append(tmp, ignore_index = True)\n"
          ]
        },
        {
          "output_type": "stream",
          "name": "stdout",
          "text": [
            "computing XGBClassifier - Non-balanced \n"
          ]
        },
        {
          "output_type": "stream",
          "name": "stderr",
          "text": [
            "<ipython-input-86-fb22e8aea435>:64: FutureWarning: The frame.append method is deprecated and will be removed from pandas in a future version. Use pandas.concat instead.\n",
            "  models_report = models_report.append(tmp, ignore_index = True)\n"
          ]
        },
        {
          "output_type": "execute_result",
          "data": {
            "text/plain": [
              "                    model  matthews_corrcoef  roc_auc_score  precision_score  \\\n",
              "0        GradientBoosting           0.245333       0.752297         0.578139   \n",
              "1      LogisticRegression           0.151108       0.671507         0.544135   \n",
              "2  RandomForestClassifier           0.187473       0.695240         0.498339   \n",
              "3           XGBClassifier           0.246944       0.742798         0.553649   \n",
              "\n",
              "   recall_score  f1_score    model_type  \n",
              "0      0.252931  0.351906  Non-balanced  \n",
              "1      0.123436  0.201224  Non-balanced  \n",
              "2      0.237123  0.321342  Non-balanced  \n",
              "3      0.284811  0.376131  Non-balanced  "
            ],
            "text/html": [
              "\n",
              "  <div id=\"df-e8c74f13-0f15-419b-807b-4752870d5f47\" class=\"colab-df-container\">\n",
              "    <div>\n",
              "<style scoped>\n",
              "    .dataframe tbody tr th:only-of-type {\n",
              "        vertical-align: middle;\n",
              "    }\n",
              "\n",
              "    .dataframe tbody tr th {\n",
              "        vertical-align: top;\n",
              "    }\n",
              "\n",
              "    .dataframe thead th {\n",
              "        text-align: right;\n",
              "    }\n",
              "</style>\n",
              "<table border=\"1\" class=\"dataframe\">\n",
              "  <thead>\n",
              "    <tr style=\"text-align: right;\">\n",
              "      <th></th>\n",
              "      <th>model</th>\n",
              "      <th>matthews_corrcoef</th>\n",
              "      <th>roc_auc_score</th>\n",
              "      <th>precision_score</th>\n",
              "      <th>recall_score</th>\n",
              "      <th>f1_score</th>\n",
              "      <th>model_type</th>\n",
              "    </tr>\n",
              "  </thead>\n",
              "  <tbody>\n",
              "    <tr>\n",
              "      <th>0</th>\n",
              "      <td>GradientBoosting</td>\n",
              "      <td>0.245333</td>\n",
              "      <td>0.752297</td>\n",
              "      <td>0.578139</td>\n",
              "      <td>0.252931</td>\n",
              "      <td>0.351906</td>\n",
              "      <td>Non-balanced</td>\n",
              "    </tr>\n",
              "    <tr>\n",
              "      <th>1</th>\n",
              "      <td>LogisticRegression</td>\n",
              "      <td>0.151108</td>\n",
              "      <td>0.671507</td>\n",
              "      <td>0.544135</td>\n",
              "      <td>0.123436</td>\n",
              "      <td>0.201224</td>\n",
              "      <td>Non-balanced</td>\n",
              "    </tr>\n",
              "    <tr>\n",
              "      <th>2</th>\n",
              "      <td>RandomForestClassifier</td>\n",
              "      <td>0.187473</td>\n",
              "      <td>0.695240</td>\n",
              "      <td>0.498339</td>\n",
              "      <td>0.237123</td>\n",
              "      <td>0.321342</td>\n",
              "      <td>Non-balanced</td>\n",
              "    </tr>\n",
              "    <tr>\n",
              "      <th>3</th>\n",
              "      <td>XGBClassifier</td>\n",
              "      <td>0.246944</td>\n",
              "      <td>0.742798</td>\n",
              "      <td>0.553649</td>\n",
              "      <td>0.284811</td>\n",
              "      <td>0.376131</td>\n",
              "      <td>Non-balanced</td>\n",
              "    </tr>\n",
              "  </tbody>\n",
              "</table>\n",
              "</div>\n",
              "    <div class=\"colab-df-buttons\">\n",
              "\n",
              "  <div class=\"colab-df-container\">\n",
              "    <button class=\"colab-df-convert\" onclick=\"convertToInteractive('df-e8c74f13-0f15-419b-807b-4752870d5f47')\"\n",
              "            title=\"Convert this dataframe to an interactive table.\"\n",
              "            style=\"display:none;\">\n",
              "\n",
              "  <svg xmlns=\"http://www.w3.org/2000/svg\" height=\"24px\" viewBox=\"0 -960 960 960\">\n",
              "    <path d=\"M120-120v-720h720v720H120Zm60-500h600v-160H180v160Zm220 220h160v-160H400v160Zm0 220h160v-160H400v160ZM180-400h160v-160H180v160Zm440 0h160v-160H620v160ZM180-180h160v-160H180v160Zm440 0h160v-160H620v160Z\"/>\n",
              "  </svg>\n",
              "    </button>\n",
              "\n",
              "  <style>\n",
              "    .colab-df-container {\n",
              "      display:flex;\n",
              "      gap: 12px;\n",
              "    }\n",
              "\n",
              "    .colab-df-convert {\n",
              "      background-color: #E8F0FE;\n",
              "      border: none;\n",
              "      border-radius: 50%;\n",
              "      cursor: pointer;\n",
              "      display: none;\n",
              "      fill: #1967D2;\n",
              "      height: 32px;\n",
              "      padding: 0 0 0 0;\n",
              "      width: 32px;\n",
              "    }\n",
              "\n",
              "    .colab-df-convert:hover {\n",
              "      background-color: #E2EBFA;\n",
              "      box-shadow: 0px 1px 2px rgba(60, 64, 67, 0.3), 0px 1px 3px 1px rgba(60, 64, 67, 0.15);\n",
              "      fill: #174EA6;\n",
              "    }\n",
              "\n",
              "    .colab-df-buttons div {\n",
              "      margin-bottom: 4px;\n",
              "    }\n",
              "\n",
              "    [theme=dark] .colab-df-convert {\n",
              "      background-color: #3B4455;\n",
              "      fill: #D2E3FC;\n",
              "    }\n",
              "\n",
              "    [theme=dark] .colab-df-convert:hover {\n",
              "      background-color: #434B5C;\n",
              "      box-shadow: 0px 1px 3px 1px rgba(0, 0, 0, 0.15);\n",
              "      filter: drop-shadow(0px 1px 2px rgba(0, 0, 0, 0.3));\n",
              "      fill: #FFFFFF;\n",
              "    }\n",
              "  </style>\n",
              "\n",
              "    <script>\n",
              "      const buttonEl =\n",
              "        document.querySelector('#df-e8c74f13-0f15-419b-807b-4752870d5f47 button.colab-df-convert');\n",
              "      buttonEl.style.display =\n",
              "        google.colab.kernel.accessAllowed ? 'block' : 'none';\n",
              "\n",
              "      async function convertToInteractive(key) {\n",
              "        const element = document.querySelector('#df-e8c74f13-0f15-419b-807b-4752870d5f47');\n",
              "        const dataTable =\n",
              "          await google.colab.kernel.invokeFunction('convertToInteractive',\n",
              "                                                    [key], {});\n",
              "        if (!dataTable) return;\n",
              "\n",
              "        const docLinkHtml = 'Like what you see? Visit the ' +\n",
              "          '<a target=\"_blank\" href=https://colab.research.google.com/notebooks/data_table.ipynb>data table notebook</a>'\n",
              "          + ' to learn more about interactive tables.';\n",
              "        element.innerHTML = '';\n",
              "        dataTable['output_type'] = 'display_data';\n",
              "        await google.colab.output.renderOutput(dataTable, element);\n",
              "        const docLink = document.createElement('div');\n",
              "        docLink.innerHTML = docLinkHtml;\n",
              "        element.appendChild(docLink);\n",
              "      }\n",
              "    </script>\n",
              "  </div>\n",
              "\n",
              "\n",
              "<div id=\"df-76bbf498-b1bb-46c9-aadf-d90003798679\">\n",
              "  <button class=\"colab-df-quickchart\" onclick=\"quickchart('df-76bbf498-b1bb-46c9-aadf-d90003798679')\"\n",
              "            title=\"Suggest charts.\"\n",
              "            style=\"display:none;\">\n",
              "\n",
              "<svg xmlns=\"http://www.w3.org/2000/svg\" height=\"24px\"viewBox=\"0 0 24 24\"\n",
              "     width=\"24px\">\n",
              "    <g>\n",
              "        <path d=\"M19 3H5c-1.1 0-2 .9-2 2v14c0 1.1.9 2 2 2h14c1.1 0 2-.9 2-2V5c0-1.1-.9-2-2-2zM9 17H7v-7h2v7zm4 0h-2V7h2v10zm4 0h-2v-4h2v4z\"/>\n",
              "    </g>\n",
              "</svg>\n",
              "  </button>\n",
              "\n",
              "<style>\n",
              "  .colab-df-quickchart {\n",
              "      --bg-color: #E8F0FE;\n",
              "      --fill-color: #1967D2;\n",
              "      --hover-bg-color: #E2EBFA;\n",
              "      --hover-fill-color: #174EA6;\n",
              "      --disabled-fill-color: #AAA;\n",
              "      --disabled-bg-color: #DDD;\n",
              "  }\n",
              "\n",
              "  [theme=dark] .colab-df-quickchart {\n",
              "      --bg-color: #3B4455;\n",
              "      --fill-color: #D2E3FC;\n",
              "      --hover-bg-color: #434B5C;\n",
              "      --hover-fill-color: #FFFFFF;\n",
              "      --disabled-bg-color: #3B4455;\n",
              "      --disabled-fill-color: #666;\n",
              "  }\n",
              "\n",
              "  .colab-df-quickchart {\n",
              "    background-color: var(--bg-color);\n",
              "    border: none;\n",
              "    border-radius: 50%;\n",
              "    cursor: pointer;\n",
              "    display: none;\n",
              "    fill: var(--fill-color);\n",
              "    height: 32px;\n",
              "    padding: 0;\n",
              "    width: 32px;\n",
              "  }\n",
              "\n",
              "  .colab-df-quickchart:hover {\n",
              "    background-color: var(--hover-bg-color);\n",
              "    box-shadow: 0 1px 2px rgba(60, 64, 67, 0.3), 0 1px 3px 1px rgba(60, 64, 67, 0.15);\n",
              "    fill: var(--button-hover-fill-color);\n",
              "  }\n",
              "\n",
              "  .colab-df-quickchart-complete:disabled,\n",
              "  .colab-df-quickchart-complete:disabled:hover {\n",
              "    background-color: var(--disabled-bg-color);\n",
              "    fill: var(--disabled-fill-color);\n",
              "    box-shadow: none;\n",
              "  }\n",
              "\n",
              "  .colab-df-spinner {\n",
              "    border: 2px solid var(--fill-color);\n",
              "    border-color: transparent;\n",
              "    border-bottom-color: var(--fill-color);\n",
              "    animation:\n",
              "      spin 1s steps(1) infinite;\n",
              "  }\n",
              "\n",
              "  @keyframes spin {\n",
              "    0% {\n",
              "      border-color: transparent;\n",
              "      border-bottom-color: var(--fill-color);\n",
              "      border-left-color: var(--fill-color);\n",
              "    }\n",
              "    20% {\n",
              "      border-color: transparent;\n",
              "      border-left-color: var(--fill-color);\n",
              "      border-top-color: var(--fill-color);\n",
              "    }\n",
              "    30% {\n",
              "      border-color: transparent;\n",
              "      border-left-color: var(--fill-color);\n",
              "      border-top-color: var(--fill-color);\n",
              "      border-right-color: var(--fill-color);\n",
              "    }\n",
              "    40% {\n",
              "      border-color: transparent;\n",
              "      border-right-color: var(--fill-color);\n",
              "      border-top-color: var(--fill-color);\n",
              "    }\n",
              "    60% {\n",
              "      border-color: transparent;\n",
              "      border-right-color: var(--fill-color);\n",
              "    }\n",
              "    80% {\n",
              "      border-color: transparent;\n",
              "      border-right-color: var(--fill-color);\n",
              "      border-bottom-color: var(--fill-color);\n",
              "    }\n",
              "    90% {\n",
              "      border-color: transparent;\n",
              "      border-bottom-color: var(--fill-color);\n",
              "    }\n",
              "  }\n",
              "</style>\n",
              "\n",
              "  <script>\n",
              "    async function quickchart(key) {\n",
              "      const quickchartButtonEl =\n",
              "        document.querySelector('#' + key + ' button');\n",
              "      quickchartButtonEl.disabled = true;  // To prevent multiple clicks.\n",
              "      quickchartButtonEl.classList.add('colab-df-spinner');\n",
              "      try {\n",
              "        const charts = await google.colab.kernel.invokeFunction(\n",
              "            'suggestCharts', [key], {});\n",
              "      } catch (error) {\n",
              "        console.error('Error during call to suggestCharts:', error);\n",
              "      }\n",
              "      quickchartButtonEl.classList.remove('colab-df-spinner');\n",
              "      quickchartButtonEl.classList.add('colab-df-quickchart-complete');\n",
              "    }\n",
              "    (() => {\n",
              "      let quickchartButtonEl =\n",
              "        document.querySelector('#df-76bbf498-b1bb-46c9-aadf-d90003798679 button');\n",
              "      quickchartButtonEl.style.display =\n",
              "        google.colab.kernel.accessAllowed ? 'block' : 'none';\n",
              "    })();\n",
              "  </script>\n",
              "</div>\n",
              "    </div>\n",
              "  </div>\n"
            ]
          },
          "metadata": {},
          "execution_count": 89
        },
        {
          "output_type": "display_data",
          "data": {
            "text/plain": [
              "<Figure size 600x600 with 1 Axes>"
            ],
            "image/png": "[encoded data removed]"
          },
          "metadata": {}
        }
      ]
    },
    {
      "cell_type": "code",
      "source": [
        "###########Synthetically balancing the dataset##################\n",
        "index_split = int(len(X_scaled)/2)\n",
        "X_train, y_train = SMOTE().fit_resample(X_scaled[0:index_split, :], y[0:index_split])\n",
        "X_test, y_test = X_scaled[index_split:], y[index_split:]\n",
        "models_report_bal, conf_matrix_bal = run_models(X_train, y_train, X_test, y_test, model_type = 'Balanced')"
      ],
      "metadata": {
        "colab": {
          "base_uri": "https://localhost:8080/",
          "height": 784
        },
        "id": "PxXQMF7Vyb8S",
        "outputId": "b1517a42-f371-474e-e861-75a317239891"
      },
      "execution_count": 90,
      "outputs": [
        {
          "output_type": "stream",
          "name": "stdout",
          "text": [
            "computing GradientBoosting - Balanced \n"
          ]
        },
        {
          "output_type": "stream",
          "name": "stderr",
          "text": [
            "<ipython-input-86-fb22e8aea435>:64: FutureWarning: The frame.append method is deprecated and will be removed from pandas in a future version. Use pandas.concat instead.\n",
            "  models_report = models_report.append(tmp, ignore_index = True)\n"
          ]
        },
        {
          "output_type": "stream",
          "name": "stdout",
          "text": [
            "computing LogisticRegression - Balanced \n"
          ]
        },
        {
          "output_type": "stream",
          "name": "stderr",
          "text": [
            "<ipython-input-86-fb22e8aea435>:64: FutureWarning: The frame.append method is deprecated and will be removed from pandas in a future version. Use pandas.concat instead.\n",
            "  models_report = models_report.append(tmp, ignore_index = True)\n"
          ]
        },
        {
          "output_type": "stream",
          "name": "stdout",
          "text": [
            "computing RandomForestClassifier - Balanced \n"
          ]
        },
        {
          "output_type": "stream",
          "name": "stderr",
          "text": [
            "<ipython-input-86-fb22e8aea435>:64: FutureWarning: The frame.append method is deprecated and will be removed from pandas in a future version. Use pandas.concat instead.\n",
            "  models_report = models_report.append(tmp, ignore_index = True)\n"
          ]
        },
        {
          "output_type": "stream",
          "name": "stdout",
          "text": [
            "computing XGBClassifier - Balanced \n"
          ]
        },
        {
          "output_type": "stream",
          "name": "stderr",
          "text": [
            "<ipython-input-86-fb22e8aea435>:64: FutureWarning: The frame.append method is deprecated and will be removed from pandas in a future version. Use pandas.concat instead.\n",
            "  models_report = models_report.append(tmp, ignore_index = True)\n"
          ]
        },
        {
          "output_type": "display_data",
          "data": {
            "text/plain": [
              "<Figure size 600x600 with 1 Axes>"
            ],
            "image/png": "[encoded data removed]"
          },
          "metadata": {}
        }
      ]
    },
    {
      "cell_type": "code",
      "source": [
        "################Now we  know that GBM model performed the best so\n",
        "# save model\n",
        "gbm=GradientBoostingClassifier(max_depth= 6, n_estimators=100, max_features = 0.3)\n",
        "gbm.fit(X_scaled, y)\n",
        "joblib.dump(gbm, 'GBM_Model_version1.pkl')\n",
        "# load model\n",
        "#gbm_pickle = joblib.load('GBM_Model_version1.pkl')"
      ],
      "metadata": {
        "colab": {
          "base_uri": "https://localhost:8080/"
        },
        "id": "LwFHHOxG0zlU",
        "outputId": "9507a6cc-4f9c-4a23-ed19-12e90efeb2ec"
      },
      "execution_count": 91,
      "outputs": [
        {
          "output_type": "execute_result",
          "data": {
            "text/plain": [
              "['GBM_Model_version1.pkl']"
            ]
          },
          "metadata": {},
          "execution_count": 91
        }
      ]
    },
    {
      "cell_type": "code",
      "source": [],
      "metadata": {
        "id": "Wv29EeWv1RX8"
      },
      "execution_count": null,
      "outputs": []
    }
  ],
  "metadata": {
    "colab": {
      "provenance": [],
      "authorship_tag": "ABX9TyOTNKBuMITj1lEi+EceyJ/w",
      "include_colab_link": true
    },
    "kernelspec": {
      "display_name": "Python 3",
      "name": "python3"
    },
    "language_info": {
      "name": "python"
    }
  },
  "nbformat": 4,
  "nbformat_minor": 0
}