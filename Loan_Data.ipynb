{
  "cells": [
    {
      "cell_type": "markdown",
      "metadata": {
        "id": "view-in-github",
        "colab_type": "text"
      },
      "source": [
        "<a href=\"https://colab.research.google.com/github/biniyam69/Loan-Eligibility-With-Gradient-Boosting-/blob/main/Loan_Data.ipynb\" target=\"_parent\"><img src=\"https://colab.research.google.com/assets/colab-badge.svg\" alt=\"Open In Colab\"/></a>"
      ]
    },
    {
      "cell_type": "code",
      "execution_count": null,
      "metadata": {
        "id": "TdeI-rL_lgQl"
      },
      "outputs": [],
      "source": [
        "import pandas as pd\n",
        "import os\n",
        "import matplotlib.pyplot as plt\n",
        "import seaborn as sns\n",
        "import statistics\n",
        "from sklearn.model_selection import train_test_split, GridSearchCV,cross_val_score\n",
        "from sklearn.preprocessing import LabelBinarizer, StandardScaler,OrdinalEncoder\n",
        "from sklearn.metrics import confusion_matrix\n",
        "from sklearn.metrics import roc_auc_score\n",
        "from sklearn.metrics import roc_curve\n",
        "from scipy.stats import boxcox\n",
        "from sklearn.linear_model import LogisticRegression, RidgeClassifier, PassiveAggressiveClassifier\n",
        "from sklearn import preprocessing\n",
        "from sklearn.ensemble import RandomForestClassifier, GradientBoostingClassifier\n",
        "from imblearn.over_sampling import SMOTE\n",
        "from xgboost import plot_importance\n",
        "from matplotlib import pyplot\n",
        "from sklearn.naive_bayes import BernoulliNB\n",
        "from sklearn.neighbors import KNeighborsClassifier\n",
        "from sklearn.svm import LinearSVC\n",
        "from sklearn.tree import DecisionTreeClassifier\n",
        "from xgboost import XGBClassifier\n",
        "import joblib\n",
        "import numpy as np\n",
        "import tensorflow as tf\n",
        "import torch\n",
        "\n",
        "%matplotlib inline"
      ]
    },
    {
      "cell_type": "code",
      "execution_count": null,
      "metadata": {
        "id": "N4ydgqcc32aH"
      },
      "outputs": [],
      "source": [
        "data = pd.read_csv(\"/content/LoansTrainingSetV2.csv\", low_memory=False)"
      ]
    },
    {
      "cell_type": "code",
      "execution_count": null,
      "metadata": {
        "id": "jWMa-zz-5SVX",
        "colab": {
          "base_uri": "https://localhost:8080/",
          "height": 539
        },
        "outputId": "011bd390-758f-4859-a627-48e828fbf85f"
      },
      "outputs": [
        {
          "output_type": "execute_result",
          "data": {
            "text/plain": [
              "                                Loan ID                           Customer ID  \\\n",
              "0  6cf51492-02a2-423e-b93d-676f05b9ad53  7c202b37-2add-44e8-9aea-d5b119aea935   \n",
              "1  552e7ade-4292-4354-9ff9-c48031697d72  e7217b0a-07ac-47dd-b379-577b5a35b7c6   \n",
              "2  9b5e32b3-8d76-4801-afc8-d729d5a2e6b9  0a62fc41-16c8-40b5-92ff-9e4b763ce714   \n",
              "3  5419b7c7-ac11-4be2-a8a7-b131fb6d6dbe  30f36c59-5182-4482-8bbb-5b736849ae43   \n",
              "4  1450910f-9495-4fc9-afaf-9bdf4b9821df  70c26012-bba5-42c0-8dcb-75295ada31bb   \n",
              "\n",
              "    Loan Status  Current Loan Amount        Term  Credit Score  \\\n",
              "0  Loan Refused                12232  Short Term        7280.0   \n",
              "1  Loan Refused                25014   Long Term        7330.0   \n",
              "2  Loan Refused                16117  Short Term        7240.0   \n",
              "3  Loan Refused                11716  Short Term        7400.0   \n",
              "4  Loan Refused                 9789   Long Term        6860.0   \n",
              "\n",
              "  Years in current job Home Ownership  Annual Income             Purpose  \\\n",
              "0             < 1 year           Rent        46643.0  Debt Consolidation   \n",
              "1            10+ years  Home Mortgage        81099.0  Debt Consolidation   \n",
              "2              9 years  Home Mortgage        60438.0   Home Improvements   \n",
              "3              3 years           Rent        34171.0  Debt Consolidation   \n",
              "4            10+ years  Home Mortgage        47003.0   Home Improvements   \n",
              "\n",
              "  Monthly Debt  Years of Credit History  Months since last delinquent  \\\n",
              "0       777.39                     18.0                          10.0   \n",
              "1       892.09                     26.7                           NaN   \n",
              "2      1244.02                     16.7                          32.0   \n",
              "3       990.94                     10.0                           NaN   \n",
              "4       503.71                     16.7                          25.0   \n",
              "\n",
              "   Number of Open Accounts  Number of Credit Problems  Current Credit Balance  \\\n",
              "0                       12                          0                    6762   \n",
              "1                       14                          0                   35706   \n",
              "2                       11                          1                   11275   \n",
              "3                       21                          0                    7009   \n",
              "4                       13                          1                   16913   \n",
              "\n",
              "  Maximum Open Credit  Bankruptcies  Tax Liens  \n",
              "0                7946           0.0        0.0  \n",
              "1               77961           0.0        0.0  \n",
              "2               14815           1.0        0.0  \n",
              "3               43533           0.0        0.0  \n",
              "4               19553           1.0        0.0  "
            ],
            "text/html": [
              "\n",
              "  <div id=\"df-ac86e1a9-cdfe-425e-893e-a2b868e79fa9\" class=\"colab-df-container\">\n",
              "    <div>\n",
              "<style scoped>\n",
              "    .dataframe tbody tr th:only-of-type {\n",
              "        vertical-align: middle;\n",
              "    }\n",
              "\n",
              "    .dataframe tbody tr th {\n",
              "        vertical-align: top;\n",
              "    }\n",
              "\n",
              "    .dataframe thead th {\n",
              "        text-align: right;\n",
              "    }\n",
              "</style>\n",
              "<table border=\"1\" class=\"dataframe\">\n",
              "  <thead>\n",
              "    <tr style=\"text-align: right;\">\n",
              "      <th></th>\n",
              "      <th>Loan ID</th>\n",
              "      <th>Customer ID</th>\n",
              "      <th>Loan Status</th>\n",
              "      <th>Current Loan Amount</th>\n",
              "      <th>Term</th>\n",
              "      <th>Credit Score</th>\n",
              "      <th>Years in current job</th>\n",
              "      <th>Home Ownership</th>\n",
              "      <th>Annual Income</th>\n",
              "      <th>Purpose</th>\n",
              "      <th>Monthly Debt</th>\n",
              "      <th>Years of Credit History</th>\n",
              "      <th>Months since last delinquent</th>\n",
              "      <th>Number of Open Accounts</th>\n",
              "      <th>Number of Credit Problems</th>\n",
              "      <th>Current Credit Balance</th>\n",
              "      <th>Maximum Open Credit</th>\n",
              "      <th>Bankruptcies</th>\n",
              "      <th>Tax Liens</th>\n",
              "    </tr>\n",
              "  </thead>\n",
              "  <tbody>\n",
              "    <tr>\n",
              "      <th>0</th>\n",
              "      <td>6cf51492-02a2-423e-b93d-676f05b9ad53</td>\n",
              "      <td>7c202b37-2add-44e8-9aea-d5b119aea935</td>\n",
              "      <td>Loan Refused</td>\n",
              "      <td>12232</td>\n",
              "      <td>Short Term</td>\n",
              "      <td>7280.0</td>\n",
              "      <td>&lt; 1 year</td>\n",
              "      <td>Rent</td>\n",
              "      <td>46643.0</td>\n",
              "      <td>Debt Consolidation</td>\n",
              "      <td>777.39</td>\n",
              "      <td>18.0</td>\n",
              "      <td>10.0</td>\n",
              "      <td>12</td>\n",
              "      <td>0</td>\n",
              "      <td>6762</td>\n",
              "      <td>7946</td>\n",
              "      <td>0.0</td>\n",
              "      <td>0.0</td>\n",
              "    </tr>\n",
              "    <tr>\n",
              "      <th>1</th>\n",
              "      <td>552e7ade-4292-4354-9ff9-c48031697d72</td>\n",
              "      <td>e7217b0a-07ac-47dd-b379-577b5a35b7c6</td>\n",
              "      <td>Loan Refused</td>\n",
              "      <td>25014</td>\n",
              "      <td>Long Term</td>\n",
              "      <td>7330.0</td>\n",
              "      <td>10+ years</td>\n",
              "      <td>Home Mortgage</td>\n",
              "      <td>81099.0</td>\n",
              "      <td>Debt Consolidation</td>\n",
              "      <td>892.09</td>\n",
              "      <td>26.7</td>\n",
              "      <td>NaN</td>\n",
              "      <td>14</td>\n",
              "      <td>0</td>\n",
              "      <td>35706</td>\n",
              "      <td>77961</td>\n",
              "      <td>0.0</td>\n",
              "      <td>0.0</td>\n",
              "    </tr>\n",
              "    <tr>\n",
              "      <th>2</th>\n",
              "      <td>9b5e32b3-8d76-4801-afc8-d729d5a2e6b9</td>\n",
              "      <td>0a62fc41-16c8-40b5-92ff-9e4b763ce714</td>\n",
              "      <td>Loan Refused</td>\n",
              "      <td>16117</td>\n",
              "      <td>Short Term</td>\n",
              "      <td>7240.0</td>\n",
              "      <td>9 years</td>\n",
              "      <td>Home Mortgage</td>\n",
              "      <td>60438.0</td>\n",
              "      <td>Home Improvements</td>\n",
              "      <td>1244.02</td>\n",
              "      <td>16.7</td>\n",
              "      <td>32.0</td>\n",
              "      <td>11</td>\n",
              "      <td>1</td>\n",
              "      <td>11275</td>\n",
              "      <td>14815</td>\n",
              "      <td>1.0</td>\n",
              "      <td>0.0</td>\n",
              "    </tr>\n",
              "    <tr>\n",
              "      <th>3</th>\n",
              "      <td>5419b7c7-ac11-4be2-a8a7-b131fb6d6dbe</td>\n",
              "      <td>30f36c59-5182-4482-8bbb-5b736849ae43</td>\n",
              "      <td>Loan Refused</td>\n",
              "      <td>11716</td>\n",
              "      <td>Short Term</td>\n",
              "      <td>7400.0</td>\n",
              "      <td>3 years</td>\n",
              "      <td>Rent</td>\n",
              "      <td>34171.0</td>\n",
              "      <td>Debt Consolidation</td>\n",
              "      <td>990.94</td>\n",
              "      <td>10.0</td>\n",
              "      <td>NaN</td>\n",
              "      <td>21</td>\n",
              "      <td>0</td>\n",
              "      <td>7009</td>\n",
              "      <td>43533</td>\n",
              "      <td>0.0</td>\n",
              "      <td>0.0</td>\n",
              "    </tr>\n",
              "    <tr>\n",
              "      <th>4</th>\n",
              "      <td>1450910f-9495-4fc9-afaf-9bdf4b9821df</td>\n",
              "      <td>70c26012-bba5-42c0-8dcb-75295ada31bb</td>\n",
              "      <td>Loan Refused</td>\n",
              "      <td>9789</td>\n",
              "      <td>Long Term</td>\n",
              "      <td>6860.0</td>\n",
              "      <td>10+ years</td>\n",
              "      <td>Home Mortgage</td>\n",
              "      <td>47003.0</td>\n",
              "      <td>Home Improvements</td>\n",
              "      <td>503.71</td>\n",
              "      <td>16.7</td>\n",
              "      <td>25.0</td>\n",
              "      <td>13</td>\n",
              "      <td>1</td>\n",
              "      <td>16913</td>\n",
              "      <td>19553</td>\n",
              "      <td>1.0</td>\n",
              "      <td>0.0</td>\n",
              "    </tr>\n",
              "  </tbody>\n",
              "</table>\n",
              "</div>\n",
              "    <div class=\"colab-df-buttons\">\n",
              "\n",
              "  <div class=\"colab-df-container\">\n",
              "    <button class=\"colab-df-convert\" onclick=\"convertToInteractive('df-ac86e1a9-cdfe-425e-893e-a2b868e79fa9')\"\n",
              "            title=\"Convert this dataframe to an interactive table.\"\n",
              "            style=\"display:none;\">\n",
              "\n",
              "  <svg xmlns=\"http://www.w3.org/2000/svg\" height=\"24px\" viewBox=\"0 -960 960 960\">\n",
              "    <path d=\"M120-120v-720h720v720H120Zm60-500h600v-160H180v160Zm220 220h160v-160H400v160Zm0 220h160v-160H400v160ZM180-400h160v-160H180v160Zm440 0h160v-160H620v160ZM180-180h160v-160H180v160Zm440 0h160v-160H620v160Z\"/>\n",
              "  </svg>\n",
              "    </button>\n",
              "\n",
              "  <style>\n",
              "    .colab-df-container {\n",
              "      display:flex;\n",
              "      gap: 12px;\n",
              "    }\n",
              "\n",
              "    .colab-df-convert {\n",
              "      background-color: #E8F0FE;\n",
              "      border: none;\n",
              "      border-radius: 50%;\n",
              "      cursor: pointer;\n",
              "      display: none;\n",
              "      fill: #1967D2;\n",
              "      height: 32px;\n",
              "      padding: 0 0 0 0;\n",
              "      width: 32px;\n",
              "    }\n",
              "\n",
              "    .colab-df-convert:hover {\n",
              "      background-color: #E2EBFA;\n",
              "      box-shadow: 0px 1px 2px rgba(60, 64, 67, 0.3), 0px 1px 3px 1px rgba(60, 64, 67, 0.15);\n",
              "      fill: #174EA6;\n",
              "    }\n",
              "\n",
              "    .colab-df-buttons div {\n",
              "      margin-bottom: 4px;\n",
              "    }\n",
              "\n",
              "    [theme=dark] .colab-df-convert {\n",
              "      background-color: #3B4455;\n",
              "      fill: #D2E3FC;\n",
              "    }\n",
              "\n",
              "    [theme=dark] .colab-df-convert:hover {\n",
              "      background-color: #434B5C;\n",
              "      box-shadow: 0px 1px 3px 1px rgba(0, 0, 0, 0.15);\n",
              "      filter: drop-shadow(0px 1px 2px rgba(0, 0, 0, 0.3));\n",
              "      fill: #FFFFFF;\n",
              "    }\n",
              "  </style>\n",
              "\n",
              "    <script>\n",
              "      const buttonEl =\n",
              "        document.querySelector('#df-ac86e1a9-cdfe-425e-893e-a2b868e79fa9 button.colab-df-convert');\n",
              "      buttonEl.style.display =\n",
              "        google.colab.kernel.accessAllowed ? 'block' : 'none';\n",
              "\n",
              "      async function convertToInteractive(key) {\n",
              "        const element = document.querySelector('#df-ac86e1a9-cdfe-425e-893e-a2b868e79fa9');\n",
              "        const dataTable =\n",
              "          await google.colab.kernel.invokeFunction('convertToInteractive',\n",
              "                                                    [key], {});\n",
              "        if (!dataTable) return;\n",
              "\n",
              "        const docLinkHtml = 'Like what you see? Visit the ' +\n",
              "          '<a target=\"_blank\" href=https://colab.research.google.com/notebooks/data_table.ipynb>data table notebook</a>'\n",
              "          + ' to learn more about interactive tables.';\n",
              "        element.innerHTML = '';\n",
              "        dataTable['output_type'] = 'display_data';\n",
              "        await google.colab.output.renderOutput(dataTable, element);\n",
              "        const docLink = document.createElement('div');\n",
              "        docLink.innerHTML = docLinkHtml;\n",
              "        element.appendChild(docLink);\n",
              "      }\n",
              "    </script>\n",
              "  </div>\n",
              "\n",
              "\n",
              "<div id=\"df-3b733c78-9424-4c82-865f-56bceb013a09\">\n",
              "  <button class=\"colab-df-quickchart\" onclick=\"quickchart('df-3b733c78-9424-4c82-865f-56bceb013a09')\"\n",
              "            title=\"Suggest charts.\"\n",
              "            style=\"display:none;\">\n",
              "\n",
              "<svg xmlns=\"http://www.w3.org/2000/svg\" height=\"24px\"viewBox=\"0 0 24 24\"\n",
              "     width=\"24px\">\n",
              "    <g>\n",
              "        <path d=\"M19 3H5c-1.1 0-2 .9-2 2v14c0 1.1.9 2 2 2h14c1.1 0 2-.9 2-2V5c0-1.1-.9-2-2-2zM9 17H7v-7h2v7zm4 0h-2V7h2v10zm4 0h-2v-4h2v4z\"/>\n",
              "    </g>\n",
              "</svg>\n",
              "  </button>\n",
              "\n",
              "<style>\n",
              "  .colab-df-quickchart {\n",
              "      --bg-color: #E8F0FE;\n",
              "      --fill-color: #1967D2;\n",
              "      --hover-bg-color: #E2EBFA;\n",
              "      --hover-fill-color: #174EA6;\n",
              "      --disabled-fill-color: #AAA;\n",
              "      --disabled-bg-color: #DDD;\n",
              "  }\n",
              "\n",
              "  [theme=dark] .colab-df-quickchart {\n",
              "      --bg-color: #3B4455;\n",
              "      --fill-color: #D2E3FC;\n",
              "      --hover-bg-color: #434B5C;\n",
              "      --hover-fill-color: #FFFFFF;\n",
              "      --disabled-bg-color: #3B4455;\n",
              "      --disabled-fill-color: #666;\n",
              "  }\n",
              "\n",
              "  .colab-df-quickchart {\n",
              "    background-color: var(--bg-color);\n",
              "    border: none;\n",
              "    border-radius: 50%;\n",
              "    cursor: pointer;\n",
              "    display: none;\n",
              "    fill: var(--fill-color);\n",
              "    height: 32px;\n",
              "    padding: 0;\n",
              "    width: 32px;\n",
              "  }\n",
              "\n",
              "  .colab-df-quickchart:hover {\n",
              "    background-color: var(--hover-bg-color);\n",
              "    box-shadow: 0 1px 2px rgba(60, 64, 67, 0.3), 0 1px 3px 1px rgba(60, 64, 67, 0.15);\n",
              "    fill: var(--button-hover-fill-color);\n",
              "  }\n",
              "\n",
              "  .colab-df-quickchart-complete:disabled,\n",
              "  .colab-df-quickchart-complete:disabled:hover {\n",
              "    background-color: var(--disabled-bg-color);\n",
              "    fill: var(--disabled-fill-color);\n",
              "    box-shadow: none;\n",
              "  }\n",
              "\n",
              "  .colab-df-spinner {\n",
              "    border: 2px solid var(--fill-color);\n",
              "    border-color: transparent;\n",
              "    border-bottom-color: var(--fill-color);\n",
              "    animation:\n",
              "      spin 1s steps(1) infinite;\n",
              "  }\n",
              "\n",
              "  @keyframes spin {\n",
              "    0% {\n",
              "      border-color: transparent;\n",
              "      border-bottom-color: var(--fill-color);\n",
              "      border-left-color: var(--fill-color);\n",
              "    }\n",
              "    20% {\n",
              "      border-color: transparent;\n",
              "      border-left-color: var(--fill-color);\n",
              "      border-top-color: var(--fill-color);\n",
              "    }\n",
              "    30% {\n",
              "      border-color: transparent;\n",
              "      border-left-color: var(--fill-color);\n",
              "      border-top-color: var(--fill-color);\n",
              "      border-right-color: var(--fill-color);\n",
              "    }\n",
              "    40% {\n",
              "      border-color: transparent;\n",
              "      border-right-color: var(--fill-color);\n",
              "      border-top-color: var(--fill-color);\n",
              "    }\n",
              "    60% {\n",
              "      border-color: transparent;\n",
              "      border-right-color: var(--fill-color);\n",
              "    }\n",
              "    80% {\n",
              "      border-color: transparent;\n",
              "      border-right-color: var(--fill-color);\n",
              "      border-bottom-color: var(--fill-color);\n",
              "    }\n",
              "    90% {\n",
              "      border-color: transparent;\n",
              "      border-bottom-color: var(--fill-color);\n",
              "    }\n",
              "  }\n",
              "</style>\n",
              "\n",
              "  <script>\n",
              "    async function quickchart(key) {\n",
              "      const quickchartButtonEl =\n",
              "        document.querySelector('#' + key + ' button');\n",
              "      quickchartButtonEl.disabled = true;  // To prevent multiple clicks.\n",
              "      quickchartButtonEl.classList.add('colab-df-spinner');\n",
              "      try {\n",
              "        const charts = await google.colab.kernel.invokeFunction(\n",
              "            'suggestCharts', [key], {});\n",
              "      } catch (error) {\n",
              "        console.error('Error during call to suggestCharts:', error);\n",
              "      }\n",
              "      quickchartButtonEl.classList.remove('colab-df-spinner');\n",
              "      quickchartButtonEl.classList.add('colab-df-quickchart-complete');\n",
              "    }\n",
              "    (() => {\n",
              "      let quickchartButtonEl =\n",
              "        document.querySelector('#df-3b733c78-9424-4c82-865f-56bceb013a09 button');\n",
              "      quickchartButtonEl.style.display =\n",
              "        google.colab.kernel.accessAllowed ? 'block' : 'none';\n",
              "    })();\n",
              "  </script>\n",
              "</div>\n",
              "    </div>\n",
              "  </div>\n"
            ]
          },
          "metadata": {},
          "execution_count": 17
        }
      ],
      "source": [
        "data.head()"
      ]
    },
    {
      "cell_type": "code",
      "execution_count": null,
      "metadata": {
        "id": "S-gfTP2v5Xae",
        "colab": {
          "base_uri": "https://localhost:8080/"
        },
        "outputId": "4a314ebf-4362-4eb7-f684-eb6d1556c1b2"
      },
      "outputs": [
        {
          "output_type": "execute_result",
          "data": {
            "text/plain": [
              "111107"
            ]
          },
          "metadata": {},
          "execution_count": 18
        }
      ],
      "source": [
        "len(data)"
      ]
    },
    {
      "cell_type": "code",
      "execution_count": null,
      "metadata": {
        "id": "wBqsQFLr5ek3"
      },
      "outputs": [],
      "source": [
        "data.drop_duplicates(subset='Loan ID', keep=\"first\", inplace=True)"
      ]
    },
    {
      "cell_type": "code",
      "execution_count": null,
      "metadata": {
        "id": "N3GkQDkJ53gQ"
      },
      "outputs": [],
      "source": [
        "status=data[\"Loan Status\"].value_counts()"
      ]
    },
    {
      "cell_type": "code",
      "execution_count": null,
      "metadata": {
        "id": "2jf23-Rv59yx",
        "colab": {
          "base_uri": "https://localhost:8080/",
          "height": 509
        },
        "outputId": "b429a538-2709-4604-c87d-7ccea9b7f8fb"
      },
      "outputs": [
        {
          "output_type": "execute_result",
          "data": {
            "text/plain": [
              "<function matplotlib.pyplot.show(close=None, block=None)>"
            ]
          },
          "metadata": {},
          "execution_count": 21
        },
        {
          "output_type": "display_data",
          "data": {
            "text/plain": [
              "<Figure size 1000x500 with 1 Axes>"
            ],
            "image/png": "[encoded data removed]"
          },
          "metadata": {}
        }
      ],
      "source": [
        "#df = sns.load_dataset(\"/content/LoansTrainingSetV2.csv\")\n",
        "plt.figure(figsize=(10,5))\n",
        "sns.barplot(x=status.index,y=status.values,alpha=0.8)\n",
        "plt.title(\"Loan status distribution\")\n",
        "plt.ylabel(\"Number of occurences\", fontsize=12)\n",
        "plt.xlabel(\"Loan Status\", fontsize=12)\n",
        "plt.show"
      ]
    },
    {
      "cell_type": "code",
      "execution_count": null,
      "metadata": {
        "id": "ln-vIKNM7c6-",
        "colab": {
          "base_uri": "https://localhost:8080/"
        },
        "outputId": "e3542426-faae-4b8b-c9c3-9f19ce22abd7"
      },
      "outputs": [
        {
          "output_type": "execute_result",
          "data": {
            "text/plain": [
              "count    8.891000e+04\n",
              "mean     1.433878e+07\n",
              "std      3.502996e+07\n",
              "min      4.910000e+02\n",
              "25%      8.283000e+03\n",
              "50%      1.435500e+04\n",
              "75%      2.448500e+04\n",
              "max      1.000000e+08\n",
              "Name: Current Loan Amount, dtype: float64"
            ]
          },
          "metadata": {},
          "execution_count": 22
        }
      ],
      "source": [
        "data[\"Current Loan Amount\"].describe()"
      ]
    },
    {
      "cell_type": "code",
      "execution_count": null,
      "metadata": {
        "id": "6T_1rPy-PZR_",
        "colab": {
          "base_uri": "https://localhost:8080/",
          "height": 472
        },
        "outputId": "04da2f31-d5c4-4300-df1d-8aa7969b3aca"
      },
      "outputs": [
        {
          "output_type": "display_data",
          "data": {
            "text/plain": [
              "<Figure size 640x480 with 1 Axes>"
            ],
            "image/png": "[encoded data removed]"
          },
          "metadata": {}
        }
      ],
      "source": [
        "data[\"Current Loan Amount\"].plot.hist(grid=True, bins=20, rwidth=0.9, color='#607c8e')\n",
        "plt.title(\"Commute times for 1000 commuters\")\n",
        "plt.ylabel(\"Commute time\")\n",
        "plt.xlabel(\"Counts\")\n",
        "plt.grid(axis='y', alpha=0.7)"
      ]
    },
    {
      "cell_type": "code",
      "execution_count": null,
      "metadata": {
        "id": "EII5EMUMvHjM",
        "colab": {
          "base_uri": "https://localhost:8080/"
        },
        "outputId": "71b58290-7db8-4113-f3b0-9e6070485ec8"
      },
      "outputs": [
        {
          "output_type": "stream",
          "name": "stdout",
          "text": [
            "16202.0\n"
          ]
        }
      ],
      "source": [
        "Q1 = data[\"Current Loan Amount\"].quantile(0.25)\n",
        "Q3 = data[\"Current Loan Amount\"].quantile(0.75)\n",
        "\n",
        "IQR = Q3 - Q1\n",
        "print(IQR)"
      ]
    },
    {
      "cell_type": "code",
      "execution_count": null,
      "metadata": {
        "id": "sThEjmuv7mge",
        "colab": {
          "base_uri": "https://localhost:8080/"
        },
        "outputId": "b06cf1e4-27f2-44da-eebd-d06361888b43"
      },
      "outputs": [
        {
          "output_type": "stream",
          "name": "stdout",
          "text": [
            "(1, 2, [1, 2, 3])\n"
          ]
        }
      ],
      "source": [
        "docum = (1, 2 , [1,2])\n",
        "docum[-1].append(3)\n",
        "\n",
        "print(docum)"
      ]
    },
    {
      "cell_type": "code",
      "execution_count": null,
      "metadata": {
        "id": "jNYy9kRUpLW6",
        "colab": {
          "base_uri": "https://localhost:8080/"
        },
        "outputId": "93eea7a1-b6ab-4430-a527-397f2b0ace95"
      },
      "outputs": [
        {
          "output_type": "execute_result",
          "data": {
            "text/plain": [
              "Series([], Name: Current Loan Amount, dtype: int64)"
            ]
          },
          "metadata": {},
          "execution_count": 26
        }
      ],
      "source": [
        "data[\"Current Loan Amount\"][((data[\"Current Loan Amount\"] < (Q1 - 1.5 * IQR)) | data[\"Current Loan Amount\"] > (Q3 + 1.5 * IQR))]"
      ]
    },
    {
      "cell_type": "code",
      "execution_count": null,
      "metadata": {
        "colab": {
          "base_uri": "https://localhost:8080/",
          "height": 448
        },
        "id": "akNPJ4-lpPSk",
        "outputId": "a34d5332-bc59-4c46-ae92-ee2e4f81956c"
      },
      "outputs": [
        {
          "output_type": "execute_result",
          "data": {
            "text/plain": [
              "<Axes: ylabel='Frequency'>"
            ]
          },
          "metadata": {},
          "execution_count": 27
        },
        {
          "output_type": "display_data",
          "data": {
            "text/plain": [
              "<Figure size 640x480 with 1 Axes>"
            ],
            "image/png": "[encoded data removed]"
          },
          "metadata": {}
        }
      ],
      "source": [
        "temp = np.array(data[\"Current Loan Amount\"].values.tolist())\n",
        "data[\"Current Loan Amount_temp\"] = np.where(temp > 999998, 'NaN', temp).tolist()\n",
        "temp=data[\"Current Loan Amount_temp\"][data[\"Current Loan Amount_temp\"] != 'NaN'].astype(str).astype(int)\n",
        "\n",
        "temp.plot.hist(grid=True, bins=20, rwidth=0.9,color=\"#607c8e\")"
      ]
    },
    {
      "cell_type": "code",
      "execution_count": null,
      "metadata": {
        "colab": {
          "base_uri": "https://localhost:8080/"
        },
        "id": "RxxVMWiot8Wr",
        "outputId": "3d2449f2-c44b-420b-c835-34dcdb6c6fe8"
      },
      "outputs": [
        {
          "output_type": "execute_result",
          "data": {
            "text/plain": [
              "count    76172.000000\n",
              "mean     13933.915756\n",
              "std       8235.921922\n",
              "min        491.000000\n",
              "25%       7810.000000\n",
              "50%      12038.000000\n",
              "75%      19351.000000\n",
              "max      35875.000000\n",
              "Name: Current Loan Amount_temp, dtype: float64"
            ]
          },
          "metadata": {},
          "execution_count": 28
        }
      ],
      "source": [
        "temp.describe()"
      ]
    },
    {
      "cell_type": "code",
      "execution_count": null,
      "metadata": {
        "id": "OPKeUK4B8JAe"
      },
      "outputs": [],
      "source": [
        "#Replacing the data with 50% percentile or mean\n",
        "\n",
        "temp=np.array(data[\"Current Loan Amount\"].values.tolist())\n",
        "data[\"Current Loan Amount\"] = np.where(temp>999998, 13286,temp).tolist()\n",
        "data = data.drop(\"Current Loan Amount_temp\", axis=1)\n"
      ]
    },
    {
      "cell_type": "code",
      "execution_count": null,
      "metadata": {
        "colab": {
          "base_uri": "https://localhost:8080/"
        },
        "id": "bT5KKX-S-aO8",
        "outputId": "4da97435-2e17-402b-c656-6c2ca65d8af7"
      },
      "outputs": [
        {
          "output_type": "stream",
          "name": "stdout",
          "text": [
            "<class 'pandas.core.frame.DataFrame'>\n",
            "Int64Index: 88910 entries, 0 to 88909\n",
            "Data columns (total 19 columns):\n",
            " #   Column                        Non-Null Count  Dtype  \n",
            "---  ------                        --------------  -----  \n",
            " 0   Loan ID                       88910 non-null  object \n",
            " 1   Customer ID                   88910 non-null  object \n",
            " 2   Loan Status                   88910 non-null  object \n",
            " 3   Current Loan Amount           88910 non-null  int64  \n",
            " 4   Term                          88910 non-null  object \n",
            " 5   Credit Score                  67572 non-null  float64\n",
            " 6   Years in current job          85093 non-null  object \n",
            " 7   Home Ownership                88910 non-null  object \n",
            " 8   Annual Income                 67572 non-null  float64\n",
            " 9   Purpose                       88910 non-null  object \n",
            " 10  Monthly Debt                  88910 non-null  object \n",
            " 11  Years of Credit History       88910 non-null  float64\n",
            " 12  Months since last delinquent  40404 non-null  float64\n",
            " 13  Number of Open Accounts       88910 non-null  int64  \n",
            " 14  Number of Credit Problems     88910 non-null  int64  \n",
            " 15  Current Credit Balance        88910 non-null  int64  \n",
            " 16  Maximum Open Credit           88910 non-null  object \n",
            " 17  Bankruptcies                  88718 non-null  float64\n",
            " 18  Tax Liens                     88902 non-null  float64\n",
            "dtypes: float64(6), int64(4), object(9)\n",
            "memory usage: 13.6+ MB\n"
          ]
        }
      ],
      "source": [
        "data.info()"
      ]
    },
    {
      "cell_type": "code",
      "execution_count": null,
      "metadata": {
        "colab": {
          "base_uri": "https://localhost:8080/"
        },
        "id": "x3HHAM_HCgH-",
        "outputId": "6338144c-75b4-4589-bf7f-4417308333b2"
      },
      "outputs": [
        {
          "output_type": "execute_result",
          "data": {
            "text/plain": [
              "array([False,  True])"
            ]
          },
          "metadata": {},
          "execution_count": 31
        }
      ],
      "source": [
        "data[\"Credit Score\"].isnull().unique()"
      ]
    },
    {
      "cell_type": "code",
      "execution_count": null,
      "metadata": {
        "id": "h9AWDq-4EGsb",
        "colab": {
          "base_uri": "https://localhost:8080/",
          "height": 577
        },
        "outputId": "7be0b9ec-6fa5-40c1-f956-0738add5eebe"
      },
      "outputs": [
        {
          "output_type": "execute_result",
          "data": {
            "text/plain": [
              "{'whiskers': [<matplotlib.lines.Line2D at 0x7b6e0e4e8220>,\n",
              "  <matplotlib.lines.Line2D at 0x7b6e0e4e84c0>],\n",
              " 'caps': [<matplotlib.lines.Line2D at 0x7b6e0e4e8790>,\n",
              "  <matplotlib.lines.Line2D at 0x7b6e0e4e8a30>],\n",
              " 'boxes': [<matplotlib.lines.Line2D at 0x7b6e0e1c7f40>],\n",
              " 'medians': [<matplotlib.lines.Line2D at 0x7b6e0e4e8cd0>],\n",
              " 'fliers': [<matplotlib.lines.Line2D at 0x7b6e0e4e8f70>],\n",
              " 'means': []}"
            ]
          },
          "metadata": {},
          "execution_count": 32
        },
        {
          "output_type": "display_data",
          "data": {
            "text/plain": [
              "<Figure size 640x480 with 1 Axes>"
            ],
            "image/png": "[encoded data removed]"
          },
          "metadata": {}
        }
      ],
      "source": [
        "plt.boxplot(data[\"Credit Score\"])"
      ]
    },
    {
      "cell_type": "code",
      "execution_count": null,
      "metadata": {
        "id": "Uf7uV27fEpin"
      },
      "outputs": [],
      "source": [
        "data[\"Credit Score\"] = np.where(data[\"Credit Score\"] > 800, data[\"Credit Score\"]/10, data[\"Credit Score\"])"
      ]
    },
    {
      "cell_type": "code",
      "execution_count": null,
      "metadata": {
        "id": "bQ9ExXQkIJuq"
      },
      "outputs": [],
      "source": [
        "median_score = statistics.median(data[\"Credit Score\"])"
      ]
    },
    {
      "cell_type": "code",
      "execution_count": null,
      "metadata": {
        "id": "EjL1gg3BIdyU"
      },
      "outputs": [],
      "source": [
        "data[\"Credit Score_1\"] = data[\"Credit Score\"]\n",
        "data[\"Credit Score_1\"].fillna(median_score, inplace=True)"
      ]
    },
    {
      "cell_type": "code",
      "execution_count": null,
      "metadata": {
        "id": "z_h2y8HtJklc",
        "colab": {
          "base_uri": "https://localhost:8080/"
        },
        "outputId": "3dd42094-c3da-4756-8ad4-95b39b9c8548"
      },
      "outputs": [
        {
          "output_type": "execute_result",
          "data": {
            "text/plain": [
              "0    728.0\n",
              "1    733.0\n",
              "2    724.0\n",
              "3    740.0\n",
              "4    686.0\n",
              "Name: Credit Score_1, dtype: float64"
            ]
          },
          "metadata": {},
          "execution_count": 36
        }
      ],
      "source": [
        "data[\"Credit Score_1\"].head()"
      ]
    },
    {
      "cell_type": "code",
      "execution_count": null,
      "metadata": {
        "id": "fat2goYoJuuI",
        "colab": {
          "base_uri": "https://localhost:8080/",
          "height": 670
        },
        "outputId": "bc0a1198-3422-405a-b0dd-2723b467355b"
      },
      "outputs": [
        {
          "output_type": "stream",
          "name": "stderr",
          "text": [
            "<ipython-input-37-5e15f51cf54e>:1: UserWarning: \n",
            "\n",
            "`distplot` is a deprecated function and will be removed in seaborn v0.14.0.\n",
            "\n",
            "Please adapt your code to use either `displot` (a figure-level function with\n",
            "similar flexibility) or `histplot` (an axes-level function for histograms).\n",
            "\n",
            "For a guide to updating your code to use the new functions, please see\n",
            "https://gist.github.com/mwaskom/de44147ed2974457ad6372750bbe5751\n",
            "\n",
            "  sns.distplot(data[\"Credit Score_1\"])\n"
          ]
        },
        {
          "output_type": "execute_result",
          "data": {
            "text/plain": [
              "<Axes: xlabel='Credit Score_1', ylabel='Density'>"
            ]
          },
          "metadata": {},
          "execution_count": 37
        },
        {
          "output_type": "display_data",
          "data": {
            "text/plain": [
              "<Figure size 640x480 with 1 Axes>"
            ],
            "image/png": "[encoded data removed]"
          },
          "metadata": {}
        }
      ],
      "source": [
        "sns.distplot(data[\"Credit Score_1\"])"
      ]
    },
    {
      "cell_type": "code",
      "execution_count": null,
      "metadata": {
        "id": "apqhH5HUJ4Hr",
        "colab": {
          "base_uri": "https://localhost:8080/",
          "height": 669
        },
        "outputId": "4059857f-f6b0-4a57-d30c-f8c426639dcc"
      },
      "outputs": [
        {
          "output_type": "stream",
          "name": "stderr",
          "text": [
            "<ipython-input-38-f60e7466faad>:2: UserWarning: \n",
            "\n",
            "`distplot` is a deprecated function and will be removed in seaborn v0.14.0.\n",
            "\n",
            "Please adapt your code to use either `displot` (a figure-level function with\n",
            "similar flexibility) or `histplot` (an axes-level function for histograms).\n",
            "\n",
            "For a guide to updating your code to use the new functions, please see\n",
            "https://gist.github.com/mwaskom/de44147ed2974457ad6372750bbe5751\n",
            "\n",
            "  sns.distplot(data[\"Credit Score\"])\n"
          ]
        },
        {
          "output_type": "execute_result",
          "data": {
            "text/plain": [
              "<Axes: xlabel='Credit Score', ylabel='Density'>"
            ]
          },
          "metadata": {},
          "execution_count": 38
        },
        {
          "output_type": "display_data",
          "data": {
            "text/plain": [
              "<Figure size 640x480 with 1 Axes>"
            ],
            "image/png": "[encoded data removed]"
          },
          "metadata": {}
        }
      ],
      "source": [
        "data[\"Credit Score\"].fillna(741, inplace=True)\n",
        "sns.distplot(data[\"Credit Score\"])"
      ]
    },
    {
      "cell_type": "code",
      "execution_count": null,
      "metadata": {
        "id": "IkbIR0RmKNNc",
        "colab": {
          "base_uri": "https://localhost:8080/",
          "height": 669
        },
        "outputId": "d77be21a-d3a2-45b6-e2e2-20079ceebaae"
      },
      "outputs": [
        {
          "output_type": "stream",
          "name": "stderr",
          "text": [
            "<ipython-input-39-b7eba8f74ed1>:1: UserWarning: \n",
            "\n",
            "`distplot` is a deprecated function and will be removed in seaborn v0.14.0.\n",
            "\n",
            "Please adapt your code to use either `displot` (a figure-level function with\n",
            "similar flexibility) or `histplot` (an axes-level function for histograms).\n",
            "\n",
            "For a guide to updating your code to use the new functions, please see\n",
            "https://gist.github.com/mwaskom/de44147ed2974457ad6372750bbe5751\n",
            "\n",
            "  sns.distplot(np.log(data[\"Credit Score\"]))\n"
          ]
        },
        {
          "output_type": "execute_result",
          "data": {
            "text/plain": [
              "<Axes: xlabel='Credit Score', ylabel='Density'>"
            ]
          },
          "metadata": {},
          "execution_count": 39
        },
        {
          "output_type": "display_data",
          "data": {
            "text/plain": [
              "<Figure size 640x480 with 1 Axes>"
            ],
            "image/png": "[encoded data removed]"
          },
          "metadata": {}
        }
      ],
      "source": [
        "sns.distplot(np.log(data[\"Credit Score\"]))"
      ]
    },
    {
      "cell_type": "code",
      "execution_count": null,
      "metadata": {
        "id": "nueopf8IKWcs",
        "colab": {
          "base_uri": "https://localhost:8080/"
        },
        "outputId": "fe735ba3-0080-419b-8504-74f58126dc9e"
      },
      "outputs": [
        {
          "output_type": "execute_result",
          "data": {
            "text/plain": [
              "array(['Rent', 'Home Mortgage', 'Own Home', 'HaveMortgage'], dtype=object)"
            ]
          },
          "metadata": {},
          "execution_count": 40
        }
      ],
      "source": [
        "data[\"Home Ownership\"].unique()"
      ]
    },
    {
      "cell_type": "code",
      "execution_count": null,
      "metadata": {
        "id": "f8Ds1t5jL3Il"
      },
      "outputs": [],
      "source": [
        "data[\"Home Ownership\"] = data[\"Home Ownership\"].str.replace(\"HaveMortgage\", \"Home Mortgage\", regex=True)"
      ]
    },
    {
      "cell_type": "code",
      "execution_count": null,
      "metadata": {
        "id": "YH_o0rKmMlNI",
        "colab": {
          "base_uri": "https://localhost:8080/"
        },
        "outputId": "05313522-d6ec-41cf-ce09-3dffab7a8535"
      },
      "outputs": [
        {
          "output_type": "execute_result",
          "data": {
            "text/plain": [
              "array(['Rent', 'Home Mortgage', 'Own Home'], dtype=object)"
            ]
          },
          "metadata": {},
          "execution_count": 42
        }
      ],
      "source": [
        "data[\"Home Ownership\"].unique()"
      ]
    },
    {
      "cell_type": "code",
      "execution_count": null,
      "metadata": {
        "id": "jpccBGnXMphq",
        "colab": {
          "base_uri": "https://localhost:8080/"
        },
        "outputId": "53a311c1-957c-420f-ff9f-3c72bde5bcef"
      },
      "outputs": [
        {
          "output_type": "execute_result",
          "data": {
            "text/plain": [
              "count    6.757200e+04\n",
              "mean     7.234575e+04\n",
              "std      5.836101e+04\n",
              "min      4.033000e+03\n",
              "25%      4.458600e+04\n",
              "50%      6.149400e+04\n",
              "75%      8.675025e+04\n",
              "max      8.713547e+06\n",
              "Name: Annual Income, dtype: float64"
            ]
          },
          "metadata": {},
          "execution_count": 43
        }
      ],
      "source": [
        "data[\"Annual Income\"].describe()"
      ]
    },
    {
      "cell_type": "code",
      "execution_count": null,
      "metadata": {
        "id": "etF13sLRMug1",
        "colab": {
          "base_uri": "https://localhost:8080/"
        },
        "outputId": "3ad0ff10-6cb2-43de-bc23-094bed5fac16"
      },
      "outputs": [
        {
          "output_type": "execute_result",
          "data": {
            "text/plain": [
              "0.200     40764.00\n",
              "0.750     86750.25\n",
              "0.950    147645.00\n",
              "0.990    239286.96\n",
              "0.999    491575.77\n",
              "Name: Annual Income, dtype: float64"
            ]
          },
          "metadata": {},
          "execution_count": 44
        }
      ],
      "source": [
        "data[\"Annual Income\"].quantile([0.2,0.75,0.95,0.99,0.999])"
      ]
    },
    {
      "cell_type": "code",
      "execution_count": null,
      "metadata": {
        "id": "hRcfpcyJNVgF"
      },
      "outputs": [],
      "source": [
        "data.loc[data['Annual Income'] > 239287, 'Annual Income'] = 239287"
      ]
    },
    {
      "cell_type": "code",
      "execution_count": null,
      "metadata": {
        "id": "oEWMLUsCNv8a",
        "colab": {
          "base_uri": "https://localhost:8080/"
        },
        "outputId": "4a2e43ea-a8df-484e-8a96-6652f7df8443"
      },
      "outputs": [
        {
          "output_type": "execute_result",
          "data": {
            "text/plain": [
              "21338"
            ]
          },
          "metadata": {},
          "execution_count": 46
        }
      ],
      "source": [
        "data[\"Annual Income\"].isna().sum()"
      ]
    },
    {
      "cell_type": "code",
      "execution_count": null,
      "metadata": {
        "id": "bqqIABaiOVmQ",
        "colab": {
          "base_uri": "https://localhost:8080/"
        },
        "outputId": "0fd5231d-c35c-4256-c080-bb06e2724ea4"
      },
      "outputs": [
        {
          "output_type": "execute_result",
          "data": {
            "text/plain": [
              "Debt Consolidation      70447\n",
              "Home Improvements        5206\n",
              "other                    4917\n",
              "Other                    2850\n",
              "Business Loan            1328\n",
              "Buy a Car                1196\n",
              "Medical Bills             955\n",
              "Buy House                 559\n",
              "Take a Trip               454\n",
              "major_purchase            344\n",
              "small_business            248\n",
              "moving                    124\n",
              "wedding                    99\n",
              "Educational Expenses       92\n",
              "vacation                   82\n",
              "renewable_energy            9\n",
              "Name: Purpose, dtype: int64"
            ]
          },
          "metadata": {},
          "execution_count": 47
        }
      ],
      "source": [
        "data[\"Purpose\"].value_counts()"
      ]
    },
    {
      "cell_type": "code",
      "execution_count": null,
      "metadata": {
        "id": "BzUgWiQWQtcL"
      },
      "outputs": [],
      "source": [
        "data[\"Purpose\"] = data['Purpose'].str.replace('Other', 'other', regex=True)"
      ]
    },
    {
      "cell_type": "code",
      "execution_count": null,
      "metadata": {
        "id": "Zfs2i_quQ6em",
        "colab": {
          "base_uri": "https://localhost:8080/"
        },
        "outputId": "024f1ff0-7d87-4b2b-9422-17867f581f6e"
      },
      "outputs": [
        {
          "output_type": "execute_result",
          "data": {
            "text/plain": [
              "Debt Consolidation      70447\n",
              "other                    7767\n",
              "Home Improvements        5206\n",
              "Business Loan            1328\n",
              "Buy a Car                1196\n",
              "Medical Bills             955\n",
              "Buy House                 559\n",
              "Take a Trip               454\n",
              "major_purchase            344\n",
              "small_business            248\n",
              "moving                    124\n",
              "wedding                    99\n",
              "Educational Expenses       92\n",
              "vacation                   82\n",
              "renewable_energy            9\n",
              "Name: Purpose, dtype: int64"
            ]
          },
          "metadata": {},
          "execution_count": 49
        }
      ],
      "source": [
        "data['Purpose'].value_counts()"
      ]
    },
    {
      "cell_type": "code",
      "execution_count": null,
      "metadata": {
        "id": "l2LL0humRF--",
        "colab": {
          "base_uri": "https://localhost:8080/"
        },
        "outputId": "2fe87a6c-5900-403c-f4c1-c5cb6456f61f"
      },
      "outputs": [
        {
          "output_type": "execute_result",
          "data": {
            "text/plain": [
              "count     88910\n",
              "unique    70066\n",
              "top           0\n",
              "freq         69\n",
              "Name: Monthly Debt, dtype: object"
            ]
          },
          "metadata": {},
          "execution_count": 50
        }
      ],
      "source": [
        "data['Monthly Debt'].describe()"
      ]
    },
    {
      "cell_type": "code",
      "execution_count": null,
      "metadata": {
        "id": "s16TpJsORPAA"
      },
      "outputs": [],
      "source": [
        "data['Monthly Debt'] = data[\"Monthly Debt\"].str.replace(\"$\",'',regex=True)"
      ]
    },
    {
      "cell_type": "code",
      "execution_count": null,
      "metadata": {
        "id": "8FvC49XwRkyX"
      },
      "outputs": [],
      "source": [
        "data['Monthly Debt']=pd.to_numeric(data['Monthly Debt'])"
      ]
    },
    {
      "cell_type": "code",
      "execution_count": null,
      "metadata": {
        "id": "O4V1huAfRpLX",
        "colab": {
          "base_uri": "https://localhost:8080/"
        },
        "outputId": "c80e4a92-f41f-4602-973d-52c8ec6c3555"
      },
      "outputs": [
        {
          "output_type": "execute_result",
          "data": {
            "text/plain": [
              "count    88910.000000\n",
              "mean       963.102059\n",
              "std        637.524064\n",
              "min          0.000000\n",
              "25%        532.220000\n",
              "50%        843.925000\n",
              "75%       1250.527500\n",
              "max      22939.120000\n",
              "Name: Monthly Debt, dtype: float64"
            ]
          },
          "metadata": {},
          "execution_count": 53
        }
      ],
      "source": [
        "data['Monthly Debt'].describe()"
      ]
    },
    {
      "cell_type": "code",
      "execution_count": null,
      "metadata": {
        "id": "bE3ugQdYR4eY",
        "colab": {
          "base_uri": "https://localhost:8080/"
        },
        "outputId": "fa99866e-511e-4e00-dfee-9b86086bf816"
      },
      "outputs": [
        {
          "output_type": "execute_result",
          "data": {
            "text/plain": [
              "0.200     463.75000\n",
              "0.750    1250.52750\n",
              "0.900    1743.08300\n",
              "0.950    2115.51100\n",
              "0.990    3087.11100\n",
              "0.999    4926.37475\n",
              "Name: Monthly Debt, dtype: float64"
            ]
          },
          "metadata": {},
          "execution_count": 54
        }
      ],
      "source": [
        "data['Monthly Debt'].quantile([0.2,0.75,0.90,0.95,0.99,0.999])"
      ]
    },
    {
      "cell_type": "code",
      "execution_count": null,
      "metadata": {
        "id": "lsKh4UDnSFNP"
      },
      "outputs": [],
      "source": [
        "data.loc[data['Monthly Debt'] > 4926, 'Monthly Debt'] =  4926"
      ]
    },
    {
      "cell_type": "code",
      "execution_count": null,
      "metadata": {
        "id": "mRBkQs6iS551",
        "colab": {
          "base_uri": "https://localhost:8080/",
          "height": 669
        },
        "outputId": "6554cf60-1028-4f85-a63d-a882e998b412"
      },
      "outputs": [
        {
          "output_type": "stream",
          "name": "stderr",
          "text": [
            "<ipython-input-56-a0a055fa903b>:1: UserWarning: \n",
            "\n",
            "`distplot` is a deprecated function and will be removed in seaborn v0.14.0.\n",
            "\n",
            "Please adapt your code to use either `displot` (a figure-level function with\n",
            "similar flexibility) or `histplot` (an axes-level function for histograms).\n",
            "\n",
            "For a guide to updating your code to use the new functions, please see\n",
            "https://gist.github.com/mwaskom/de44147ed2974457ad6372750bbe5751\n",
            "\n",
            "  sns.distplot(data['Monthly Debt'])\n"
          ]
        },
        {
          "output_type": "execute_result",
          "data": {
            "text/plain": [
              "<Axes: xlabel='Monthly Debt', ylabel='Density'>"
            ]
          },
          "metadata": {},
          "execution_count": 56
        },
        {
          "output_type": "display_data",
          "data": {
            "text/plain": [
              "<Figure size 640x480 with 1 Axes>"
            ],
            "image/png": "[encoded data removed]"
          },
          "metadata": {}
        }
      ],
      "source": [
        "sns.distplot(data['Monthly Debt'])"
      ]
    },
    {
      "cell_type": "code",
      "execution_count": null,
      "metadata": {
        "id": "D8zWo1uFS9jC",
        "colab": {
          "base_uri": "https://localhost:8080/"
        },
        "outputId": "bd619f55-504c-4442-a85d-c57205eb799c"
      },
      "outputs": [
        {
          "output_type": "execute_result",
          "data": {
            "text/plain": [
              "count    88910.000000\n",
              "mean        18.315313\n",
              "std          7.049175\n",
              "min          3.600000\n",
              "25%         13.500000\n",
              "50%         17.000000\n",
              "75%         21.800000\n",
              "max         70.500000\n",
              "Name: Years of Credit History, dtype: float64"
            ]
          },
          "metadata": {},
          "execution_count": 57
        }
      ],
      "source": [
        "data['Years of Credit History'].describe()"
      ]
    },
    {
      "cell_type": "code",
      "execution_count": null,
      "metadata": {
        "id": "d_63hbqNTrF_",
        "colab": {
          "base_uri": "https://localhost:8080/",
          "height": 669
        },
        "outputId": "85fa0970-3be6-4b50-f325-9534c6a9a764"
      },
      "outputs": [
        {
          "output_type": "stream",
          "name": "stderr",
          "text": [
            "<ipython-input-58-168237ab8a62>:1: UserWarning: \n",
            "\n",
            "`distplot` is a deprecated function and will be removed in seaborn v0.14.0.\n",
            "\n",
            "Please adapt your code to use either `displot` (a figure-level function with\n",
            "similar flexibility) or `histplot` (an axes-level function for histograms).\n",
            "\n",
            "For a guide to updating your code to use the new functions, please see\n",
            "https://gist.github.com/mwaskom/de44147ed2974457ad6372750bbe5751\n",
            "\n",
            "  sns.distplot(data['Years of Credit History'])\n"
          ]
        },
        {
          "output_type": "execute_result",
          "data": {
            "text/plain": [
              "<Axes: xlabel='Years of Credit History', ylabel='Density'>"
            ]
          },
          "metadata": {},
          "execution_count": 58
        },
        {
          "output_type": "display_data",
          "data": {
            "text/plain": [
              "<Figure size 640x480 with 1 Axes>"
            ],
            "image/png": "[encoded data removed]"
          },
          "metadata": {}
        }
      ],
      "source": [
        "sns.distplot(data['Years of Credit History'])"
      ]
    },
    {
      "cell_type": "code",
      "execution_count": null,
      "metadata": {
        "id": "DpH96or8TwDp",
        "colab": {
          "base_uri": "https://localhost:8080/"
        },
        "outputId": "51cb0dfb-0711-4920-b73e-d7fbcea92cd4"
      },
      "outputs": [
        {
          "output_type": "execute_result",
          "data": {
            "text/plain": [
              "48506"
            ]
          },
          "metadata": {},
          "execution_count": 59
        }
      ],
      "source": [
        "data['Months since last delinquent'].isna().sum()"
      ]
    },
    {
      "cell_type": "code",
      "execution_count": null,
      "metadata": {
        "id": "Kh4Z2AzqUbCn",
        "colab": {
          "base_uri": "https://localhost:8080/"
        },
        "outputId": "a1768286-43c9-486d-ff4f-54349f5dd1e4"
      },
      "outputs": [
        {
          "output_type": "execute_result",
          "data": {
            "text/plain": [
              "count    88910.000000\n",
              "mean        11.110348\n",
              "std          4.978461\n",
              "min          0.000000\n",
              "25%          8.000000\n",
              "50%         10.000000\n",
              "75%         14.000000\n",
              "max         76.000000\n",
              "Name: Number of Open Accounts, dtype: float64"
            ]
          },
          "metadata": {},
          "execution_count": 60
        }
      ],
      "source": [
        "data['Number of Open Accounts'].describe()"
      ]
    },
    {
      "cell_type": "code",
      "execution_count": null,
      "metadata": {
        "id": "Yjc0DjA-Up33",
        "colab": {
          "base_uri": "https://localhost:8080/",
          "height": 685
        },
        "outputId": "d23635d9-6cf0-4aca-a8a6-5af9f48f1515"
      },
      "outputs": [
        {
          "output_type": "stream",
          "name": "stderr",
          "text": [
            "<ipython-input-61-9f2a18ccbe61>:1: UserWarning: \n",
            "\n",
            "`distplot` is a deprecated function and will be removed in seaborn v0.14.0.\n",
            "\n",
            "Please adapt your code to use either `displot` (a figure-level function with\n",
            "similar flexibility) or `histplot` (an axes-level function for histograms).\n",
            "\n",
            "For a guide to updating your code to use the new functions, please see\n",
            "https://gist.github.com/mwaskom/de44147ed2974457ad6372750bbe5751\n",
            "\n",
            "  sns.distplot(data['Current Credit Balance'])\n"
          ]
        },
        {
          "output_type": "execute_result",
          "data": {
            "text/plain": [
              "<Axes: xlabel='Current Credit Balance', ylabel='Density'>"
            ]
          },
          "metadata": {},
          "execution_count": 61
        },
        {
          "output_type": "display_data",
          "data": {
            "text/plain": [
              "<Figure size 640x480 with 1 Axes>"
            ],
            "image/png": "[encoded data removed]"
          },
          "metadata": {}
        }
      ],
      "source": [
        "sns.distplot(data['Current Credit Balance'])"
      ]
    },
    {
      "cell_type": "code",
      "execution_count": null,
      "metadata": {
        "id": "wK_Q0HF2VRYp",
        "colab": {
          "base_uri": "https://localhost:8080/"
        },
        "outputId": "d681a18f-8596-43fc-e835-491307a2312a"
      },
      "outputs": [
        {
          "output_type": "execute_result",
          "data": {
            "text/plain": [
              "0.95      39933.30\n",
              "0.96      43501.20\n",
              "0.96      43501.20\n",
              "0.97      48507.73\n",
              "0.98      57938.12\n",
              "0.99      81007.19\n",
              "1.00    1730472.00\n",
              "Name: Current Credit Balance, dtype: float64"
            ]
          },
          "metadata": {},
          "execution_count": 62
        }
      ],
      "source": [
        "data['Current Credit Balance'].quantile([0.95,0.96,0.96,0.97,0.98,0.99,1])"
      ]
    },
    {
      "cell_type": "code",
      "execution_count": null,
      "metadata": {
        "id": "TT8vLXkTVhFp"
      },
      "outputs": [],
      "source": [
        "data.loc[data['Current Credit Balance'] > 81007, 'Current Credit Balance'] = 81007"
      ]
    },
    {
      "cell_type": "code",
      "execution_count": null,
      "metadata": {
        "id": "ptKF06JIWz83",
        "colab": {
          "base_uri": "https://localhost:8080/",
          "height": 669
        },
        "outputId": "7db936a9-1f44-471e-88ea-0d2e95817ad8"
      },
      "outputs": [
        {
          "output_type": "stream",
          "name": "stderr",
          "text": [
            "<ipython-input-64-44e8ee6e5fdd>:1: UserWarning: \n",
            "\n",
            "`distplot` is a deprecated function and will be removed in seaborn v0.14.0.\n",
            "\n",
            "Please adapt your code to use either `displot` (a figure-level function with\n",
            "similar flexibility) or `histplot` (an axes-level function for histograms).\n",
            "\n",
            "For a guide to updating your code to use the new functions, please see\n",
            "https://gist.github.com/mwaskom/de44147ed2974457ad6372750bbe5751\n",
            "\n",
            "  sns.distplot(data['Current Credit Balance']**(1/2))\n"
          ]
        },
        {
          "output_type": "execute_result",
          "data": {
            "text/plain": [
              "<Axes: xlabel='Current Credit Balance', ylabel='Density'>"
            ]
          },
          "metadata": {},
          "execution_count": 64
        },
        {
          "output_type": "display_data",
          "data": {
            "text/plain": [
              "<Figure size 640x480 with 1 Axes>"
            ],
            "image/png": "[encoded data removed]"
          },
          "metadata": {}
        }
      ],
      "source": [
        "sns.distplot(data['Current Credit Balance']**(1/2))"
      ]
    },
    {
      "cell_type": "code",
      "execution_count": null,
      "metadata": {
        "id": "FXWHJ1EqXD6F",
        "colab": {
          "base_uri": "https://localhost:8080/"
        },
        "outputId": "53c047a4-8f88-4a6a-c8e3-97e102ca1e70"
      },
      "outputs": [
        {
          "output_type": "execute_result",
          "data": {
            "text/plain": [
              "count     88910\n",
              "unique    46625\n",
              "top           0\n",
              "freq        610\n",
              "Name: Maximum Open Credit, dtype: object"
            ]
          },
          "metadata": {},
          "execution_count": 65
        }
      ],
      "source": [
        "data['Maximum Open Credit'].describe()"
      ]
    },
    {
      "cell_type": "code",
      "execution_count": null,
      "metadata": {
        "id": "knRr5qrEX-y3",
        "colab": {
          "base_uri": "https://localhost:8080/"
        },
        "outputId": "e3e52cd1-a0bf-4d41-b833-d11197dd90f9"
      },
      "outputs": [
        {
          "output_type": "execute_result",
          "data": {
            "text/plain": [
              "0        610\n",
              "10782     10\n",
              "14382     10\n",
              "17464     10\n",
              "11044     10\n",
              "        ... \n",
              "46635      1\n",
              "25110      1\n",
              "54780      1\n",
              "42402      1\n",
              "53374      1\n",
              "Name: Maximum Open Credit, Length: 46625, dtype: int64"
            ]
          },
          "metadata": {},
          "execution_count": 68
        }
      ],
      "source": [
        "data['Maximum Open Credit'].value_counts()"
      ]
    },
    {
      "cell_type": "code",
      "execution_count": null,
      "metadata": {
        "id": "ihS8R2TAYF4m",
        "colab": {
          "base_uri": "https://localhost:8080/",
          "height": 685
        },
        "outputId": "fd619266-74d3-4a11-b4a9-ca3130940edd"
      },
      "outputs": [
        {
          "output_type": "stream",
          "name": "stderr",
          "text": [
            "<ipython-input-71-78aae5c6ae52>:1: UserWarning: \n",
            "\n",
            "`distplot` is a deprecated function and will be removed in seaborn v0.14.0.\n",
            "\n",
            "Please adapt your code to use either `displot` (a figure-level function with\n",
            "similar flexibility) or `histplot` (an axes-level function for histograms).\n",
            "\n",
            "For a guide to updating your code to use the new functions, please see\n",
            "https://gist.github.com/mwaskom/de44147ed2974457ad6372750bbe5751\n",
            "\n",
            "  sns.distplot(data['Maximum Open Credit'])\n"
          ]
        },
        {
          "output_type": "execute_result",
          "data": {
            "text/plain": [
              "<Axes: xlabel='Maximum Open Credit', ylabel='Density'>"
            ]
          },
          "metadata": {},
          "execution_count": 71
        },
        {
          "output_type": "display_data",
          "data": {
            "text/plain": [
              "<Figure size 640x480 with 1 Axes>"
            ],
            "image/png": "[encoded data removed]"
          },
          "metadata": {}
        }
      ],
      "source": [
        "sns.distplot(data['Maximum Open Credit'])"
      ]
    },
    {
      "cell_type": "code",
      "execution_count": null,
      "metadata": {
        "id": "cMhdoMqfYTFQ"
      },
      "outputs": [],
      "source": [
        "data['Maximum Open Credit'] = data['Maximum Open Credit'].replace(\"#VALUE!\", np.nan, regex=True)"
      ]
    },
    {
      "cell_type": "code",
      "execution_count": null,
      "metadata": {
        "id": "ovQ12yXLYe-U"
      },
      "outputs": [],
      "source": [
        "data['Maximum Open Credit'] = pd.to_numeric(data['Maximum Open Credit'])"
      ]
    },
    {
      "cell_type": "code",
      "execution_count": null,
      "metadata": {
        "id": "cQqFcZu0Y35W",
        "colab": {
          "base_uri": "https://localhost:8080/"
        },
        "outputId": "1215f898-a9e8-4e4c-ab8d-947fb0c69dd7"
      },
      "outputs": [
        {
          "output_type": "execute_result",
          "data": {
            "text/plain": [
              "2"
            ]
          },
          "metadata": {},
          "execution_count": 73
        }
      ],
      "source": [
        "data['Maximum Open Credit'].isnull().sum()"
      ]
    },
    {
      "cell_type": "code",
      "execution_count": null,
      "metadata": {
        "id": "cLks42xVZDKS"
      },
      "outputs": [],
      "source": [
        "data['Maximum Open Credit'] = data['Maximum Open Credit'].fillna(35965)"
      ]
    },
    {
      "cell_type": "code",
      "execution_count": null,
      "metadata": {
        "id": "Hy7d12HwZOEM",
        "colab": {
          "base_uri": "https://localhost:8080/"
        },
        "outputId": "1ffa2f70-5918-4f2a-c4be-493ef81b3188"
      },
      "outputs": [
        {
          "output_type": "execute_result",
          "data": {
            "text/plain": [
              "0.55       24037.95\n",
              "0.76       37259.84\n",
              "0.87       50736.66\n",
              "0.98      114682.56\n",
              "0.99      171423.91\n",
              "1.00    69988086.00\n",
              "Name: Maximum Open Credit, dtype: float64"
            ]
          },
          "metadata": {},
          "execution_count": 75
        }
      ],
      "source": [
        "data['Maximum Open Credit'].quantile([0.55,0.76,0.87,0.98,0.99,1])"
      ]
    },
    {
      "cell_type": "code",
      "execution_count": null,
      "metadata": {
        "id": "N8YJJA_6ZZIi"
      },
      "outputs": [],
      "source": [
        "data.loc[data['Maximum Open Credit'] > 171424, 'Maximum Open Credit'] = 171424"
      ]
    },
    {
      "cell_type": "code",
      "execution_count": null,
      "metadata": {
        "id": "1T5h1SBfZuQT",
        "colab": {
          "base_uri": "https://localhost:8080/"
        },
        "outputId": "fbd197b3-b7b1-4142-e7b6-2ad9495acd2e"
      },
      "outputs": [
        {
          "output_type": "execute_result",
          "data": {
            "text/plain": [
              "171424.0    890\n",
              "0.0         610\n",
              "11044.0      10\n",
              "10782.0      10\n",
              "17464.0      10\n",
              "           ... \n",
              "70865.0       1\n",
              "20726.0       1\n",
              "32515.0       1\n",
              "58164.0       1\n",
              "53374.0       1\n",
              "Name: Maximum Open Credit, Length: 45738, dtype: int64"
            ]
          },
          "metadata": {},
          "execution_count": 77
        }
      ],
      "source": [
        "data['Maximum Open Credit'].value_counts()"
      ]
    },
    {
      "cell_type": "code",
      "execution_count": null,
      "metadata": {
        "id": "sxJHqQQ9Z1NS",
        "colab": {
          "base_uri": "https://localhost:8080/",
          "height": 685
        },
        "outputId": "7f444887-54f0-48cf-d738-859006097c33"
      },
      "outputs": [
        {
          "output_type": "stream",
          "name": "stderr",
          "text": [
            "<ipython-input-78-78aae5c6ae52>:1: UserWarning: \n",
            "\n",
            "`distplot` is a deprecated function and will be removed in seaborn v0.14.0.\n",
            "\n",
            "Please adapt your code to use either `displot` (a figure-level function with\n",
            "similar flexibility) or `histplot` (an axes-level function for histograms).\n",
            "\n",
            "For a guide to updating your code to use the new functions, please see\n",
            "https://gist.github.com/mwaskom/de44147ed2974457ad6372750bbe5751\n",
            "\n",
            "  sns.distplot(data['Maximum Open Credit'])\n"
          ]
        },
        {
          "output_type": "execute_result",
          "data": {
            "text/plain": [
              "<Axes: xlabel='Maximum Open Credit', ylabel='Density'>"
            ]
          },
          "metadata": {},
          "execution_count": 78
        },
        {
          "output_type": "display_data",
          "data": {
            "text/plain": [
              "<Figure size 640x480 with 1 Axes>"
            ],
            "image/png": "[encoded data removed]"
          },
          "metadata": {}
        }
      ],
      "source": [
        "sns.distplot(data['Maximum Open Credit'])"
      ]
    },
    {
      "cell_type": "code",
      "execution_count": null,
      "metadata": {
        "id": "Hl5wiEibZ-wO",
        "colab": {
          "base_uri": "https://localhost:8080/"
        },
        "outputId": "f90156ee-3ffd-43b8-a3bc-809d99382104"
      },
      "outputs": [
        {
          "output_type": "execute_result",
          "data": {
            "text/plain": [
              "array([ 0.,  1., nan,  2.,  4.,  3.,  5.,  7.,  6.])"
            ]
          },
          "metadata": {},
          "execution_count": 79
        }
      ],
      "source": [
        "data['Bankruptcies'].unique()"
      ]
    },
    {
      "cell_type": "code",
      "execution_count": null,
      "metadata": {
        "id": "zJeXe3fmaFe4"
      },
      "outputs": [],
      "source": [
        "data['Bankruptcies']= data['Bankruptcies'].fillna(3)"
      ]
    },
    {
      "cell_type": "code",
      "execution_count": null,
      "metadata": {
        "id": "XvGOx0PSanzh"
      },
      "outputs": [],
      "source": [
        "cat_cols = [\"Term\", \"Years in current job\", \"Home Ownership\", \"Purpose\"]\n",
        "\n",
        "for c in cat_cols:\n",
        "  data[c] = pd.factorize(data[c])[0]"
      ]
    },
    {
      "cell_type": "code",
      "source": [
        "updated_data = pd.DataFrame(data=SoftImpute().fit_transform(data[data.columns[3:19]],), )"
      ],
      "metadata": {
        "id": "r0ndjpUu3nfM"
      },
      "execution_count": null,
      "outputs": []
    }
  ],
  "metadata": {
    "colab": {
      "provenance": [],
      "authorship_tag": "ABX9TyOqZfuIEg/B84Etr2rpNylo",
      "include_colab_link": true
    },
    "kernelspec": {
      "display_name": "Python 3",
      "name": "python3"
    },
    "language_info": {
      "name": "python"
    }
  },
  "nbformat": 4,
  "nbformat_minor": 0
}